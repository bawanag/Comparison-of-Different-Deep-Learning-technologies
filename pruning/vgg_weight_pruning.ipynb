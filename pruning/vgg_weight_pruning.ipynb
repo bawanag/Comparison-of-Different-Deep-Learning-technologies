{
 "cells": [
  {
   "cell_type": "code",
   "execution_count": 1,
   "metadata": {
    "scrolled": true
   },
   "outputs": [
    {
     "output_type": "execute_result",
     "data": {
      "text/plain": "VGG(\n  (features): Sequential(\n    (0): Conv2d(3, 64, kernel_size=(3, 3), stride=(1, 1), padding=(1, 1))\n    (1): ReLU(inplace=True)\n    (2): MaxPool2d(kernel_size=2, stride=2, padding=0, dilation=1, ceil_mode=False)\n    (3): Conv2d(64, 128, kernel_size=(3, 3), stride=(1, 1), padding=(1, 1))\n    (4): ReLU(inplace=True)\n    (5): MaxPool2d(kernel_size=2, stride=2, padding=0, dilation=1, ceil_mode=False)\n    (6): Conv2d(128, 256, kernel_size=(3, 3), stride=(1, 1), padding=(1, 1))\n    (7): ReLU(inplace=True)\n    (8): Conv2d(256, 256, kernel_size=(3, 3), stride=(1, 1), padding=(1, 1))\n    (9): ReLU(inplace=True)\n    (10): MaxPool2d(kernel_size=2, stride=2, padding=0, dilation=1, ceil_mode=False)\n    (11): Conv2d(256, 512, kernel_size=(3, 3), stride=(1, 1), padding=(1, 1))\n    (12): ReLU(inplace=True)\n    (13): Conv2d(512, 512, kernel_size=(3, 3), stride=(1, 1), padding=(1, 1))\n    (14): ReLU(inplace=True)\n    (15): MaxPool2d(kernel_size=2, stride=2, padding=0, dilation=1, ceil_mode=False)\n    (16): Conv2d(512, 512, kernel_size=(3, 3), stride=(1, 1), padding=(1, 1))\n    (17): ReLU(inplace=True)\n    (18): Conv2d(512, 512, kernel_size=(3, 3), stride=(1, 1), padding=(1, 1))\n    (19): ReLU(inplace=True)\n    (20): MaxPool2d(kernel_size=2, stride=2, padding=0, dilation=1, ceil_mode=False)\n  )\n  (avgpool): AdaptiveAvgPool2d(output_size=(7, 7))\n  (classifier): Sequential(\n    (0): Linear(in_features=25088, out_features=4096, bias=True)\n    (1): ReLU(inplace=True)\n    (2): Dropout(p=0.5, inplace=False)\n    (3): Linear(in_features=4096, out_features=4096, bias=True)\n    (4): ReLU(inplace=True)\n    (5): Dropout(p=0.5, inplace=False)\n    (6): Linear(in_features=4096, out_features=1000, bias=True)\n  )\n)"
     },
     "metadata": {},
     "execution_count": 1
    }
   ],
   "source": [
    "import torch.nn.utils.prune as prune\n",
    "import torch\n",
    "from torchvision.models import resnet18\n",
    "import torch_pruning as pruning\n",
    "from torchsummary import summary\n",
    "device = torch.device('cuda:0' if torch.cuda.is_available() else 'cpu')\n",
    "\n",
    "model = torch.load('vgg/vgg11.pth').to(device)\n",
    "# build layer dependency for resnet18\n",
    "model.eval()\n",
    "# prune.random_unstructured(model.conv1, name=\"weight\", amount=0.3)"
   ]
  },
  {
   "cell_type": "code",
   "execution_count": 2,
   "metadata": {},
   "outputs": [
    {
     "output_type": "execute_result",
     "data": {
      "text/plain": "Parameter containing:\ntensor([[[[ 0.2882,  0.0358, -0.3850],\n          [ 0.1795,  0.3668, -0.5012],\n          [-0.0974,  0.3648, -0.2296]],\n\n         [[ 0.4015, -0.0461, -0.6842],\n          [ 0.4442,  0.4478, -0.7949],\n          [ 0.1129,  0.4917, -0.3705]],\n\n         [[ 0.2162, -0.0290, -0.3949],\n          [ 0.1490,  0.2967, -0.4294],\n          [-0.0095,  0.3479, -0.1558]]],\n\n\n        [[[-0.3528, -0.2549,  0.6734],\n          [-0.6027, -0.3453,  0.8054],\n          [-0.4197, -0.1347,  0.6622]],\n\n         [[-0.5740, -0.3998,  0.7708],\n          [-0.8758, -0.3668,  1.1098],\n          [-0.5186, -0.0801,  0.9228]],\n\n         [[-0.0280, -0.2954,  0.2159],\n          [-0.1868, -0.2904,  0.3808],\n          [-0.0926, -0.0766,  0.3727]]],\n\n\n        [[[ 0.0650, -0.2592, -0.2389],\n          [ 0.3209,  0.2152, -0.2047],\n          [-0.0443,  0.2227, -0.0452]],\n\n         [[ 0.0290, -0.4797, -0.5490],\n          [ 0.5363,  0.2973, -0.3728],\n          [ 0.1776,  0.4145, -0.0436]],\n\n         [[ 0.0033, -0.3427, -0.3938],\n          [ 0.3794,  0.1943, -0.2603],\n          [ 0.1459,  0.2964, -0.0333]]],\n\n\n        ...,\n\n\n        [[[ 0.4208,  0.5328,  0.2592],\n          [-0.8361, -0.9358, -0.3850],\n          [ 0.3817,  0.4249,  0.1484]],\n\n         [[ 0.5396,  0.6907,  0.3637],\n          [-1.0659, -1.2236, -0.5555],\n          [ 0.5017,  0.5402,  0.2012]],\n\n         [[ 0.2086,  0.2754,  0.0017],\n          [-0.5794, -0.6839, -0.2688],\n          [ 0.4031,  0.4799,  0.1611]]],\n\n\n        [[[ 0.2121,  0.3241,  0.0817],\n          [ 0.3186,  0.4458,  0.1481],\n          [ 0.0512,  0.1552, -0.0759]],\n\n         [[-0.2936, -0.4400, -0.2273],\n          [-0.5096, -0.6494, -0.3605],\n          [-0.2812, -0.3833, -0.1996]],\n\n         [[ 0.1334,  0.1664,  0.1355],\n          [ 0.2118,  0.2306,  0.2332],\n          [ 0.2063,  0.2109,  0.1828]]],\n\n\n        [[[ 0.0886,  0.1445,  0.2239],\n          [-0.1609, -0.1317,  0.1232],\n          [-0.2115, -0.1493,  0.0707]],\n\n         [[-0.1374, -0.1351, -0.0249],\n          [-0.3027, -0.3286, -0.1028],\n          [-0.2908, -0.2614, -0.0867]],\n\n         [[ 0.0837,  0.1193,  0.1322],\n          [ 0.0126, -0.0202,  0.1318],\n          [-0.0201,  0.0228,  0.1438]]]], device='cuda:0', requires_grad=True)"
     },
     "metadata": {},
     "execution_count": 2
    }
   ],
   "source": [
    "model.features[0].weight"
   ]
  },
  {
   "cell_type": "code",
   "execution_count": 3,
   "metadata": {},
   "outputs": [
    {
     "output_type": "stream",
     "name": "stdout",
     "text": "----------------------------------------------------------------\n        Layer (type)               Output Shape         Param #\n================================================================\n            Conv2d-1           [-1, 64, 64, 64]           1,792\n              ReLU-2           [-1, 64, 64, 64]               0\n         MaxPool2d-3           [-1, 64, 32, 32]               0\n            Conv2d-4          [-1, 128, 32, 32]          73,856\n              ReLU-5          [-1, 128, 32, 32]               0\n         MaxPool2d-6          [-1, 128, 16, 16]               0\n            Conv2d-7          [-1, 256, 16, 16]         295,168\n              ReLU-8          [-1, 256, 16, 16]               0\n            Conv2d-9          [-1, 256, 16, 16]         590,080\n             ReLU-10          [-1, 256, 16, 16]               0\n        MaxPool2d-11            [-1, 256, 8, 8]               0\n           Conv2d-12            [-1, 512, 8, 8]       1,180,160\n             ReLU-13            [-1, 512, 8, 8]               0\n           Conv2d-14            [-1, 512, 8, 8]       2,359,808\n             ReLU-15            [-1, 512, 8, 8]               0\n        MaxPool2d-16            [-1, 512, 4, 4]               0\n           Conv2d-17            [-1, 512, 4, 4]       2,359,808\n             ReLU-18            [-1, 512, 4, 4]               0\n           Conv2d-19            [-1, 512, 4, 4]       2,359,808\n             ReLU-20            [-1, 512, 4, 4]               0\n        MaxPool2d-21            [-1, 512, 2, 2]               0\nAdaptiveAvgPool2d-22            [-1, 512, 7, 7]               0\n           Linear-23                 [-1, 4096]     102,764,544\n             ReLU-24                 [-1, 4096]               0\n          Dropout-25                 [-1, 4096]               0\n           Linear-26                 [-1, 4096]      16,781,312\n             ReLU-27                 [-1, 4096]               0\n          Dropout-28                 [-1, 4096]               0\n           Linear-29                 [-1, 1000]       4,097,000\n================================================================\nTotal params: 132,863,336\nTrainable params: 132,863,336\nNon-trainable params: 0\n----------------------------------------------------------------\nInput size (MB): 0.05\nForward/backward pass size (MB): 10.59\nParams size (MB): 506.83\nEstimated Total Size (MB): 517.47\n----------------------------------------------------------------\n"
    }
   ],
   "source": [
    "summary(model, (3, 64, 64))"
   ]
  },
  {
   "cell_type": "code",
   "execution_count": 4,
   "metadata": {},
   "outputs": [],
   "source": [
    "# parameters_to_prune = (\n",
    "#     (model.classifier[0], 'weight'),\n",
    "#     # (model.classifier[3], 'weight'),\n",
    "\n",
    "# )\n",
    "\n",
    "# prune.global_unstructured(\n",
    "#     parameters_to_prune,\n",
    "#     pruning_method=prune.RandomUnstructured,\n",
    "#     amount=0.2,\n",
    "# )\n",
    "# print(prune.is_pruned(model))\n",
    "# for each_parameter in parameters_to_prune:\n",
    "#     prune.remove(each_parameter[0], each_parameter[1])\n",
    "\n",
    "# summary(model, (3, 64, 64))"
   ]
  },
  {
   "cell_type": "code",
   "execution_count": 5,
   "metadata": {},
   "outputs": [
    {
     "output_type": "stream",
     "name": "stdout",
     "text": "True\n"
    }
   ],
   "source": [
    "parameters_to_prune = (\n",
    "    (model.features[0], 'weight'),\n",
    "    (model.features[3], 'weight'),\n",
    "    (model.features[6], 'weight'),\n",
    "    (model.features[8], 'weight'),\n",
    "    (model.features[11], 'weight'),\n",
    "    (model.features[13], 'weight'),\n",
    "    (model.features[16], 'weight'),\n",
    "    (model.features[18], 'weight'),\n",
    ")\n",
    "\n",
    "prune.global_unstructured(\n",
    "    parameters_to_prune,\n",
    "    pruning_method=prune.L1Unstructured,\n",
    "    amount=0.2,\n",
    ")\n",
    "print(prune.is_pruned(model))\n",
    "for each_parameter in parameters_to_prune:\n",
    "    prune.remove(each_parameter[0], each_parameter[1])"
   ]
  },
  {
   "cell_type": "code",
   "execution_count": 10,
   "metadata": {},
   "outputs": [
    {
     "output_type": "stream",
     "name": "stdout",
     "text": "----------------------------------------------------------------\n        Layer (type)               Output Shape         Param #\n================================================================\n            Conv2d-1           [-1, 64, 64, 64]           1,792\n              ReLU-2           [-1, 64, 64, 64]               0\n         MaxPool2d-3           [-1, 64, 32, 32]               0\n            Conv2d-4          [-1, 128, 32, 32]          73,856\n              ReLU-5          [-1, 128, 32, 32]               0\n         MaxPool2d-6          [-1, 128, 16, 16]               0\n            Conv2d-7          [-1, 256, 16, 16]         295,168\n              ReLU-8          [-1, 256, 16, 16]               0\n            Conv2d-9          [-1, 256, 16, 16]         590,080\n             ReLU-10          [-1, 256, 16, 16]               0\n        MaxPool2d-11            [-1, 256, 8, 8]               0\n           Conv2d-12            [-1, 512, 8, 8]       1,180,160\n             ReLU-13            [-1, 512, 8, 8]               0\n           Conv2d-14            [-1, 512, 8, 8]       2,359,808\n             ReLU-15            [-1, 512, 8, 8]               0\n        MaxPool2d-16            [-1, 512, 4, 4]               0\n           Conv2d-17            [-1, 512, 4, 4]       2,359,808\n             ReLU-18            [-1, 512, 4, 4]               0\n           Conv2d-19            [-1, 512, 4, 4]       2,359,808\n             ReLU-20            [-1, 512, 4, 4]               0\n        MaxPool2d-21            [-1, 512, 2, 2]               0\nAdaptiveAvgPool2d-22            [-1, 512, 7, 7]               0\n           Linear-23                 [-1, 4096]     102,764,544\n             ReLU-24                 [-1, 4096]               0\n          Dropout-25                 [-1, 4096]               0\n           Linear-26                 [-1, 4096]      16,781,312\n             ReLU-27                 [-1, 4096]               0\n          Dropout-28                 [-1, 4096]               0\n           Linear-29                 [-1, 1000]       4,097,000\n================================================================\nTotal params: 132,863,336\nTrainable params: 132,863,336\nNon-trainable params: 0\n----------------------------------------------------------------\nInput size (MB): 0.05\nForward/backward pass size (MB): 10.59\nParams size (MB): 506.83\nEstimated Total Size (MB): 517.47\n----------------------------------------------------------------\n"
    }
   ],
   "source": [
    "summary(model, (3, 64, 64))"
   ]
  },
  {
   "cell_type": "code",
   "execution_count": 6,
   "metadata": {},
   "outputs": [
    {
     "output_type": "execute_result",
     "data": {
      "text/plain": "[('bias',\n  Parameter containing:\n  tensor([ 0.1939,  0.3042,  0.1825, -1.1122,  0.0442, -0.0678,  0.1324, -0.5846,\n           0.2210, -0.0130, -0.3794,  0.1256,  0.2415,  0.2491, -0.7849, -1.0575,\n           0.2637, -0.1838,  0.1533, -1.1485,  0.0095, -0.8640, -0.3903, -0.4040,\n           0.5775,  0.2528,  0.0911,  0.1554, -0.1833, -0.4766, -0.2352, -1.1038,\n          -0.5924,  0.2940,  0.1892,  0.4142, -0.0220,  0.1800, -0.5532,  0.2365,\n           0.1548, -1.7165, -0.0318,  0.0494,  0.1286,  0.1860,  0.1789,  0.4679,\n          -0.0066, -0.0948, -1.4731, -0.7618, -1.2010,  0.1765,  0.2015, -0.0822,\n           0.1453,  0.0289, -1.2024,  0.1595, -0.8845, -0.0075,  0.2292, -1.3837],\n         device='cuda:0', requires_grad=True)),\n ('weight',\n  Parameter containing:\n  tensor([[[[ 0.2882,  0.0358, -0.3850],\n            [ 0.1795,  0.3668, -0.5012],\n            [-0.0974,  0.3648, -0.2296]],\n  \n           [[ 0.4015, -0.0461, -0.6842],\n            [ 0.4442,  0.4478, -0.7949],\n            [ 0.1129,  0.4917, -0.3705]],\n  \n           [[ 0.2162, -0.0290, -0.3949],\n            [ 0.1490,  0.2967, -0.4294],\n            [-0.0095,  0.3479, -0.1558]]],\n  \n  \n          [[[-0.3528, -0.2549,  0.6734],\n            [-0.6027, -0.3453,  0.8054],\n            [-0.4197, -0.1347,  0.6622]],\n  \n           [[-0.5740, -0.3998,  0.7708],\n            [-0.8758, -0.3668,  1.1098],\n            [-0.5186, -0.0801,  0.9228]],\n  \n           [[-0.0280, -0.2954,  0.2159],\n            [-0.1868, -0.2904,  0.3808],\n            [-0.0926, -0.0766,  0.3727]]],\n  \n  \n          [[[ 0.0650, -0.2592, -0.2389],\n            [ 0.3209,  0.2152, -0.2047],\n            [-0.0443,  0.2227, -0.0452]],\n  \n           [[ 0.0290, -0.4797, -0.5490],\n            [ 0.5363,  0.2973, -0.3728],\n            [ 0.1776,  0.4145, -0.0436]],\n  \n           [[ 0.0000, -0.3427, -0.3938],\n            [ 0.3794,  0.1943, -0.2603],\n            [ 0.1459,  0.2964, -0.0333]]],\n  \n  \n          ...,\n  \n  \n          [[[ 0.4208,  0.5328,  0.2592],\n            [-0.8361, -0.9358, -0.3850],\n            [ 0.3817,  0.4249,  0.1484]],\n  \n           [[ 0.5396,  0.6907,  0.3637],\n            [-1.0659, -1.2236, -0.5555],\n            [ 0.5017,  0.5402,  0.2012]],\n  \n           [[ 0.2086,  0.2754,  0.0000],\n            [-0.5794, -0.6839, -0.2688],\n            [ 0.4031,  0.4799,  0.1611]]],\n  \n  \n          [[[ 0.2121,  0.3241,  0.0817],\n            [ 0.3186,  0.4458,  0.1481],\n            [ 0.0512,  0.1552, -0.0759]],\n  \n           [[-0.2936, -0.4400, -0.2273],\n            [-0.5096, -0.6494, -0.3605],\n            [-0.2812, -0.3833, -0.1996]],\n  \n           [[ 0.1334,  0.1664,  0.1355],\n            [ 0.2118,  0.2306,  0.2332],\n            [ 0.2063,  0.2109,  0.1828]]],\n  \n  \n          [[[ 0.0886,  0.1445,  0.2239],\n            [-0.1609, -0.1317,  0.1232],\n            [-0.2115, -0.1493,  0.0707]],\n  \n           [[-0.1374, -0.1351, -0.0249],\n            [-0.3027, -0.3286, -0.1028],\n            [-0.2908, -0.2614, -0.0867]],\n  \n           [[ 0.0837,  0.1193,  0.1322],\n            [ 0.0126, -0.0202,  0.1318],\n            [-0.0201,  0.0228,  0.1438]]]], device='cuda:0', requires_grad=True))]"
     },
     "metadata": {},
     "execution_count": 6
    }
   ],
   "source": [
    "list(model.features[0].named_parameters())"
   ]
  },
  {
   "cell_type": "code",
   "execution_count": 7,
   "metadata": {},
   "outputs": [
    {
     "output_type": "stream",
     "name": "stdout",
     "text": "Sparsity in features[0]: 1.45%\nSparsity in features[3].weight: 10.11%\n"
    }
   ],
   "source": [
    "print(\n",
    "    \"Sparsity in features[0]: {:.2f}%\".format(\n",
    "        100. * float(torch.sum(model.features[0].weight == 0))\n",
    "        / float(model.features[0].weight.nelement())\n",
    "    )\n",
    ")\n",
    "print(\n",
    "    \"Sparsity in features[3].weight: {:.2f}%\".format(\n",
    "        100. * float(torch.sum(model.features[3].weight == 0))\n",
    "        / float(model.features[3].weight.nelement())\n",
    "    )\n",
    ")\n",
    "# print(\n",
    "#     \"Sparsity in fc1.weight: {:.2f}%\".format(\n",
    "#         100. * float(torch.sum(model.fc1.weight == 0))\n",
    "#         / float(model.fc1.weight.nelement())\n",
    "#     )\n",
    "# )\n",
    "# print(\n",
    "#     \"Sparsity in fc2.weight: {:.2f}%\".format(\n",
    "#         100. * float(torch.sum(model.fc2.weight == 0))\n",
    "#         / float(model.fc2.weight.nelement())\n",
    "#     )\n",
    "# )\n",
    "# print(\n",
    "#     \"Sparsity in fc3.weight: {:.2f}%\".format(\n",
    "#         100. * float(torch.sum(model.fc3.weight == 0))\n",
    "#         / float(model.fc3.weight.nelement())\n",
    "#     )\n",
    "# )\n",
    "# print(\n",
    "#     \"Global sparsity: {:.2f}%\".format(\n",
    "#         100. * float(\n",
    "#             torch.sum(model.conv1.weight == 0)\n",
    "#             + torch.sum(model.conv2.weight == 0)\n",
    "#             + torch.sum(model.fc1.weight == 0)\n",
    "#             + torch.sum(model.fc2.weight == 0)\n",
    "#             + torch.sum(model.fc3.weight == 0)\n",
    "#         )\n",
    "#         / float(\n",
    "#             model.conv1.weight.nelement()\n",
    "#             + model.conv2.weight.nelement()\n",
    "#             + model.fc1.weight.nelement()\n",
    "#             + model.fc2.weight.nelement()\n",
    "#             + model.fc3.weight.nelement()\n",
    "#         )\n",
    "#     )\n",
    "# )"
   ]
  },
  {
   "cell_type": "code",
   "execution_count": 8,
   "metadata": {},
   "outputs": [],
   "source": [
    "torch.save(model, 'vgg11_pruning_pytorch.pth')"
   ]
  },
  {
   "cell_type": "code",
   "execution_count": 9,
   "metadata": {},
   "outputs": [],
   "source": [
    "class FooBarPruningMethod(prune.BasePruningMethod):\n",
    "    \"\"\"Prune every other entry in a tensor\n",
    "    \"\"\"\n",
    "    PRUNING_TYPE = 'unstructured'\n",
    "\n",
    "    def compute_mask(self, t, default_mask):\n",
    "        mask = default_mask.clone()\n",
    "        mask.view(-1)[::2] = 0\n",
    "        return mask\n"
   ]
  }
 ],
 "metadata": {
  "kernelspec": {
   "display_name": "Python 3",
   "language": "python",
   "name": "python3"
  },
  "language_info": {
   "codemirror_mode": {
    "name": "ipython",
    "version": 3
   },
   "file_extension": ".py",
   "mimetype": "text/x-python",
   "name": "python",
   "nbconvert_exporter": "python",
   "pygments_lexer": "ipython3",
   "version": "3.7.3-final"
  },
  "toc": {
   "base_numbering": 1,
   "nav_menu": {},
   "number_sections": true,
   "sideBar": true,
   "skip_h1_title": false,
   "title_cell": "Table of Contents",
   "title_sidebar": "Contents",
   "toc_cell": false,
   "toc_position": {},
   "toc_section_display": true,
   "toc_window_display": false
  }
 },
 "nbformat": 4,
 "nbformat_minor": 4
}