{
 "cells": [
  {
   "cell_type": "code",
   "execution_count": 2,
   "metadata": {
    "tags": []
   },
   "outputs": [
    {
     "output_type": "stream",
     "name": "stderr",
     "text": "Downloading: \"https://download.pytorch.org/models/quantized/resnet18_fbgemm_16fa66dd.pth\" to C:\\Users\\bawanag/.cache\\torch\\checkpoints\\resnet18_fbgemm_16fa66dd.pth\n100%|██████████| 11.2M/11.2M [00:02<00:00, 3.97MB/s]\n"
    }
   ],
   "source": [
    "import torch\n",
    "import torchvision.models as models\n",
    "# import torchsummary\n",
    "# models.quantization.quantize_model TODO 这个得看看怎么用\n",
    "# model = models.quantization.resnet18(pretrained=True,progress=True,quantize=True)\n",
    "device = 'cpu'\n",
    "model_name = 'resnet18'\n",
    "model = models.quantization.__dict__[model_name](pretrained=True,progress=True,quantize=True).to(device)\n",
    "\n"
   ]
  },
  {
   "cell_type": "code",
   "execution_count": 3,
   "metadata": {},
   "outputs": [],
   "source": [
    "\n",
    "torch.jit.save(torch.jit.script(model), '../../quantization_models/'+model_name+'.pth')\n",
    "# torch.jit.save(model, 'resnet/quantization/'+model_name+'.pth')"
   ]
  },
  {
   "cell_type": "code",
   "execution_count": 5,
   "metadata": {},
   "outputs": [],
   "source": [
    "model = torch.jit.load('../../quantization_models/'+model_name+'.pth')"
   ]
  },
  {
   "cell_type": "code",
   "execution_count": 9,
   "metadata": {
    "tags": []
   },
   "outputs": [
    {
     "output_type": "stream",
     "name": "stdout",
     "text": "RecursiveScriptModule(\n  original_name=QuantizableResNet\n  (conv1): RecursiveScriptModule(original_name=ConvReLU2d)\n  (bn1): RecursiveScriptModule(original_name=Identity)\n  (relu): RecursiveScriptModule(original_name=Identity)\n  (maxpool): RecursiveScriptModule(original_name=MaxPool2d)\n  (layer1): RecursiveScriptModule(\n    original_name=Sequential\n    (0): RecursiveScriptModule(\n      original_name=QuantizableBasicBlock\n      (conv1): RecursiveScriptModule(original_name=ConvReLU2d)\n      (bn1): RecursiveScriptModule(original_name=Identity)\n      (relu): RecursiveScriptModule(original_name=Identity)\n      (conv2): RecursiveScriptModule(original_name=Conv2d)\n      (bn2): RecursiveScriptModule(original_name=Identity)\n      (add_relu): RecursiveScriptModule(original_name=QFunctional)\n    )\n    (1): RecursiveScriptModule(\n      original_name=QuantizableBasicBlock\n      (conv1): RecursiveScriptModule(original_name=ConvReLU2d)\n      (bn1): RecursiveScriptModule(original_name=Identity)\n      (relu): RecursiveScriptModule(original_name=Identity)\n      (conv2): RecursiveScriptModule(original_name=Conv2d)\n      (bn2): RecursiveScriptModule(original_name=Identity)\n      (add_relu): RecursiveScriptModule(original_name=QFunctional)\n    )\n  )\n  (layer2): RecursiveScriptModule(\n    original_name=Sequential\n    (0): RecursiveScriptModule(\n      original_name=QuantizableBasicBlock\n      (conv1): RecursiveScriptModule(original_name=ConvReLU2d)\n      (bn1): RecursiveScriptModule(original_name=Identity)\n      (relu): RecursiveScriptModule(original_name=Identity)\n      (conv2): RecursiveScriptModule(original_name=Conv2d)\n      (bn2): RecursiveScriptModule(original_name=Identity)\n      (downsample): RecursiveScriptModule(\n        original_name=Sequential\n        (0): RecursiveScriptModule(original_name=Conv2d)\n        (1): RecursiveScriptModule(original_name=Identity)\n      )\n      (add_relu): RecursiveScriptModule(original_name=QFunctional)\n    )\n    (1): RecursiveScriptModule(\n      original_name=QuantizableBasicBlock\n      (conv1): RecursiveScriptModule(original_name=ConvReLU2d)\n      (bn1): RecursiveScriptModule(original_name=Identity)\n      (relu): RecursiveScriptModule(original_name=Identity)\n      (conv2): RecursiveScriptModule(original_name=Conv2d)\n      (bn2): RecursiveScriptModule(original_name=Identity)\n      (add_relu): RecursiveScriptModule(original_name=QFunctional)\n    )\n  )\n  (layer3): RecursiveScriptModule(\n    original_name=Sequential\n    (0): RecursiveScriptModule(\n      original_name=QuantizableBasicBlock\n      (conv1): RecursiveScriptModule(original_name=ConvReLU2d)\n      (bn1): RecursiveScriptModule(original_name=Identity)\n      (relu): RecursiveScriptModule(original_name=Identity)\n      (conv2): RecursiveScriptModule(original_name=Conv2d)\n      (bn2): RecursiveScriptModule(original_name=Identity)\n      (downsample): RecursiveScriptModule(\n        original_name=Sequential\n        (0): RecursiveScriptModule(original_name=Conv2d)\n        (1): RecursiveScriptModule(original_name=Identity)\n      )\n      (add_relu): RecursiveScriptModule(original_name=QFunctional)\n    )\n    (1): RecursiveScriptModule(\n      original_name=QuantizableBasicBlock\n      (conv1): RecursiveScriptModule(original_name=ConvReLU2d)\n      (bn1): RecursiveScriptModule(original_name=Identity)\n      (relu): RecursiveScriptModule(original_name=Identity)\n      (conv2): RecursiveScriptModule(original_name=Conv2d)\n      (bn2): RecursiveScriptModule(original_name=Identity)\n      (add_relu): RecursiveScriptModule(original_name=QFunctional)\n    )\n  )\n  (layer4): RecursiveScriptModule(\n    original_name=Sequential\n    (0): RecursiveScriptModule(\n      original_name=QuantizableBasicBlock\n      (conv1): RecursiveScriptModule(original_name=ConvReLU2d)\n      (bn1): RecursiveScriptModule(original_name=Identity)\n      (relu): RecursiveScriptModule(original_name=Identity)\n      (conv2): RecursiveScriptModule(original_name=Conv2d)\n      (bn2): RecursiveScriptModule(original_name=Identity)\n      (downsample): RecursiveScriptModule(\n        original_name=Sequential\n        (0): RecursiveScriptModule(original_name=Conv2d)\n        (1): RecursiveScriptModule(original_name=Identity)\n      )\n      (add_relu): RecursiveScriptModule(original_name=QFunctional)\n    )\n    (1): RecursiveScriptModule(\n      original_name=QuantizableBasicBlock\n      (conv1): RecursiveScriptModule(original_name=ConvReLU2d)\n      (bn1): RecursiveScriptModule(original_name=Identity)\n      (relu): RecursiveScriptModule(original_name=Identity)\n      (conv2): RecursiveScriptModule(original_name=Conv2d)\n      (bn2): RecursiveScriptModule(original_name=Identity)\n      (add_relu): RecursiveScriptModule(original_name=QFunctional)\n    )\n  )\n  (avgpool): RecursiveScriptModule(original_name=AdaptiveAvgPool2d)\n  (fc): RecursiveScriptModule(\n    original_name=Linear\n    (_packed_params): RecursiveScriptModule(original_name=LinearPackedParams)\n  )\n  (quant): RecursiveScriptModule(original_name=Quantize)\n  (dequant): RecursiveScriptModule(original_name=DeQuantize)\n)\ntensor([[[[-0.5938, -0.1143, -0.0629,  ...,  0.0227,  0.2111,  0.2111],\n          [-0.7137, -0.2684, -0.3198,  ...,  0.2796,  0.1939, -0.1999],\n          [-0.5767, -0.4397, -0.2684,  ...,  0.5364,  0.7933,  0.0912],\n          ...,\n          [-0.6281, -0.6109, -0.5767,  ...,  0.1939, -0.3198, -0.5767],\n          [-0.7479, -0.4397, -0.6794,  ..., -0.2513, -0.5253, -0.4054],\n          [-0.4226, -0.6623, -0.4226,  ..., -0.5424, -0.5424, -0.3883]],\n\n         [[-0.4601,  0.0651,  0.1352,  ...,  0.3452,  0.5203,  0.5028],\n          [-0.7577, -0.1975, -0.1800,  ...,  0.5553,  0.3803, -0.0049],\n          [-0.6176, -0.4076, -0.1450,  ...,  0.7304,  0.9930,  0.3102],\n          ...,\n          [-0.5826, -0.5651, -0.5476,  ...,  0.1352, -0.5301, -0.9503],\n          [-0.6001, -0.3025, -0.6176,  ..., -0.4951, -0.9153, -0.9328],\n          [-0.2850, -0.5301, -0.3375,  ..., -0.8452, -1.0028, -0.9153]],\n\n         [[-0.6541, -0.1138, -0.0441,  ..., -0.0964,  0.0953,  0.3219],\n          [-0.9853, -0.3927, -0.3578,  ...,  0.4265,  0.2871, -0.1312],\n          [-0.8458, -0.6715, -0.4275,  ...,  0.8971,  1.0539,  0.2348],\n          ...,\n          [-0.4624, -0.3927, -0.3753,  ..., -0.0092, -1.0550, -1.4733],\n          [-0.5495, -0.2707, -0.5670,  ..., -0.6193, -1.5081, -1.5256],\n          [-0.3404, -0.4450, -0.2881,  ..., -1.3164, -1.6476, -1.4559]]]])\ntensor([ 0.2849,  1.7096,  0.0000, -1.1397,  1.4246,  2.5643,  2.5643,  0.8548,\n         2.5643, -1.1397,  0.8548, -0.5699,  2.8493,  3.4191, -0.5699,  3.9890,\n         1.9945,  1.4246,  1.1397,  0.0000,  3.1342,  1.7096,  0.8548,  1.7096,\n         1.7096,  3.7041,  5.4136,  5.6985,  2.5643,  0.5699,  4.8438,  2.5643,\n         3.9890,  1.4246,  1.4246,  4.5588,  4.8438,  4.2739,  2.2794,  2.8493,\n         4.2739,  1.7096,  1.9945,  2.2794,  5.1287,  2.5643,  4.2739,  3.4191,\n         1.9945,  1.4246,  3.9890,  2.2794,  5.9835,  4.8438,  6.5533,  3.9890,\n         3.9890,  5.4136,  6.8383,  3.9890,  5.4136,  4.8438,  4.5588,  3.7041,\n         3.1342,  3.9890,  4.8438,  4.8438,  3.4191,  1.1397,  5.1287,  2.8493,\n         4.2739,  3.1342,  4.2739,  3.1342,  4.2739,  6.8383,  2.2794,  3.7041,\n        -0.5699,  5.4136,  5.6985,  0.5699,  2.5643,  6.5533,  4.5588, -0.8548,\n         0.8548,  2.8493,  1.7096,  2.8493,  0.5699,  1.4246,  1.9945, -0.5699,\n         1.9945,  0.8548, -1.9945,  2.5643,  1.9945,  0.8548,  4.8438,  2.2794,\n         0.8548,  1.9945,  0.2849, -1.1397,  2.8493,  0.2849,  0.8548,  2.8493,\n         3.7041,  6.2684, 10.2574,  3.7041,  2.8493, -0.5699,  1.1397,  1.9945,\n         4.5588, -0.5699, -0.2849,  1.7096,  3.9890,  3.4191,  3.7041,  0.5699,\n         1.9945,  3.4191,  0.5699,  3.9890,  4.5588,  5.9835,  3.9890,  6.5533,\n         1.9945,  1.7096,  3.9890,  1.9945,  3.1342,  2.8493,  1.7096,  0.5699,\n         0.5699,  1.1397,  3.1342, -1.9945, -1.9945, -1.7096, -0.2849, -1.1397,\n        -5.1287, -4.8438, -5.1287, -2.2794,  0.0000, -3.7041, -1.9945, -2.2794,\n        -3.1342, -0.8548,  0.2849, -1.4246, -1.4246, -3.1342,  1.1397,  0.5699,\n        -2.2794, -4.2739, -3.9890, -0.5699, -0.5699,  0.0000, -1.9945, -3.7041,\n        -3.1342, -3.7041,  1.1397, -1.4246, -1.1397, -1.4246, -0.8548, -2.5643,\n         0.0000,  0.2849, -0.2849, -0.8548, -0.8548,  0.2849, -2.5643, -0.2849,\n        -0.8548, -0.8548, -3.7041, -0.5699, -1.9945, -2.2794, -2.5643, -1.4246,\n        -2.8493,  0.5699, -0.2849,  0.0000, -2.5643, -1.9945, -3.4191, -2.8493,\n        -1.7096, -0.5699, -0.5699, -1.7096, -2.2794, -1.9945, -1.9945, -0.8548,\n        -0.8548,  0.2849,  0.2849, -1.9945, -1.4246, -2.5643, -2.8493, -3.1342,\n        -1.9945, -2.5643, -3.7041, -2.2794, -3.1342, -4.2739, -2.5643, -1.4246,\n        -1.7096, -3.4191, -2.5643, -1.9945, -1.4246, -2.5643, -1.1397, -3.1342,\n        -1.4246, -2.2794, -1.7096, -2.2794, -5.4136, -1.4246, -1.1397, -1.9945,\n        -1.9945, -2.5643, -0.8548, -0.8548, -3.7041, -0.2849, -2.2794, -3.9890,\n        -1.9945, -2.5643, -3.7041, -3.1342, -3.9890, -3.9890, -3.1342, -0.5699,\n        -1.4246, -2.5643, -2.2794, -1.4246, -2.2794,  1.7096, -1.1397,  1.4246,\n         1.7096,  0.8548,  0.0000,  0.5699, -1.7096,  1.4246,  1.4246,  1.7096,\n         1.9945,  0.0000,  1.1397, -2.8493, -0.2849,  0.0000,  1.1397,  1.4246,\n         1.1397,  0.0000,  0.0000,  0.2849, -0.2849, -1.1397, -0.8548,  0.2849,\n        -3.4191,  0.5699,  3.1342,  2.5643,  1.1397,  2.5643,  2.8493,  2.2794,\n         1.7096,  3.1342,  1.1397,  1.9945,  1.7096,  2.8493,  4.2739,  3.7041,\n         3.7041,  5.4136,  2.2794,  4.8438,  5.1287,  2.8493,  3.9890,  3.4191,\n         1.1397,  2.5643,  4.5588,  1.1397,  3.9890,  1.9945,  3.7041,  3.7041,\n         2.5643,  3.9890,  1.4246,  1.9945, -1.9945, -2.2794,  1.9945,  0.0000,\n         3.1342,  4.2739, -0.8548, -4.5588, -1.7096,  0.2849,  0.8548, -0.2849,\n        -0.5699, -1.1397, -1.4246, -4.8438,  1.1397,  0.2849,  0.5699, -1.9945,\n         0.0000, -0.5699, -3.1342, -1.7096,  4.5588,  3.4191,  1.7096, -1.4246,\n         1.7096,  0.2849,  3.4191,  3.9890,  4.5588,  1.1397, -0.2849, -0.8548,\n         1.7096,  1.1397,  0.2849,  0.8548,  0.2849,  1.4246,  0.5699,  0.8548,\n         2.2794,  1.1397,  3.1342,  0.8548,  1.4246,  0.8548,  2.2794,  1.4246,\n        -0.5699, -0.2849, -0.5699,  1.7096,  2.2794,  2.8493,  2.8493,  2.2794,\n        -2.2794,  1.1397,  0.0000,  2.2794,  1.7096,  2.5643, -2.5643, -1.7096,\n        -3.9890, -3.7041, -4.8438, -3.1342, -5.4136, -2.8493, -0.8548, -6.2684,\n        -5.6985, -1.7096,  2.8493,  0.8548,  0.8548, -0.5699, -1.4246, -1.7096,\n        -1.9945, -2.8493, -1.1397,  2.8493, -1.9945,  1.7096, -4.2739,  0.0000,\n        -2.8493,  1.7096, -3.4191,  0.5699,  4.2739,  1.9945, -3.4191, -3.4191,\n        -2.8493, -3.9890, -1.9945,  1.1397, -3.7041,  0.2849,  0.0000, -3.9890,\n         2.8493,  1.1397,  0.2849,  0.2849, -1.4246, -0.8548, -3.4191, -2.2794,\n         4.8438, -0.2849, -3.9890,  1.9945,  1.4246, -2.8493, -2.8493,  0.5699,\n         1.1397, -0.5699,  2.8493,  1.4246,  0.5699, -1.4246,  3.4191,  5.1287,\n        -0.2849, -0.8548, -3.1342, -0.2849, -3.4191,  1.9945,  1.9945, -0.5699,\n        -0.5699,  0.5699,  1.1397, -3.1342, -3.1342, -0.2849, -0.5699, -2.5643,\n        -3.9890, -2.8493, -3.9890, -0.2849, -4.5588, -4.8438, -2.8493,  0.0000,\n         2.8493,  5.9835,  0.5699,  2.8493, -0.5699, -3.9890,  3.1342, -2.8493,\n         2.5643, -0.8548, -5.1287,  4.2739,  1.7096,  0.0000,  1.7096, -0.5699,\n        -1.1397,  1.4246,  2.2794,  0.2849, -2.2794,  0.2849, -3.7041, -5.6985,\n        -0.5699, -1.7096,  0.5699, -0.5699, -1.7096, -0.8548, -1.9945,  0.0000,\n        -4.8438, -1.1397,  1.9945,  1.7096, -1.4246, -0.2849, -4.8438, -4.2739,\n        -3.1342, -2.8493, -2.8493, -3.7041,  0.2849, -0.8548, -2.5643, -1.7096,\n        -0.5699, -3.1342, -0.5699,  1.4246, -2.2794, -0.8548,  0.5699, -3.4191,\n        -0.8548,  0.5699, -3.7041, -4.2739, -5.6985,  1.1397, -3.1342, -2.5643,\n        -0.5699, -2.8493, -4.8438, -6.2684, -2.2794, -1.1397,  0.5699,  0.8548,\n        -4.2739, -3.7041,  2.2794, -1.9945, -4.8438, -3.9890,  0.2849,  0.2849,\n        -0.5699, -2.5643, -0.8548, -3.4191,  1.4246, -3.7041,  3.4191, -1.9945,\n        -3.1342,  0.5699,  0.8548, -3.1342,  4.2739, -2.5643,  1.9945, -0.8548,\n         0.2849, -1.9945, -2.8493,  3.9890,  1.4246, -1.4246, -5.4136,  2.2794,\n        -4.8438, -2.5643, -2.8493, -1.7096,  6.8383, -1.9945, -5.6985,  3.9890,\n         3.1342, -0.2849, -3.1342, -2.8493, -1.9945, -3.1342, -0.5699, -1.7096,\n         1.1397, -2.8493,  0.0000,  0.2849, -2.8493, -2.2794, -1.4246, -1.9945,\n         3.1342,  0.0000,  5.9835,  1.1397, -2.8493,  1.1397, -1.4246,  1.9945,\n        -3.1342, -5.4136,  0.5699, -3.4191, -2.2794, -2.2794,  0.5699, -0.2849,\n        -2.8493, -1.1397,  1.7096, -1.7096,  2.5643,  1.7096, -1.9945, -1.1397,\n         1.1397, -0.8548, -1.7096,  0.5699,  3.7041, -0.8548,  0.8548, -0.5699,\n        -1.4246,  3.7041, -1.4246, -2.5643,  1.4246,  2.2794, -4.2739,  0.8548,\n        -2.8493,  0.5699,  3.7041, -0.8548, -0.5699, -4.8438, -1.1397, -2.2794,\n        -0.8548, -2.8493,  4.2739, -0.5699, -1.7096, -1.4246, -4.2739, -1.1397,\n        -0.5699, -3.7041, -0.5699, -3.7041, -1.1397,  6.2684, -2.5643,  1.1397,\n        -1.7096, -1.9945,  1.4246, -2.2794, -0.5699, -4.2739, -1.9945, -3.1342,\n        -4.5588, -0.5699, -1.4246, -1.9945,  1.7096,  2.2794,  0.2849,  3.4191,\n         4.5588, -3.7041, -2.8493, -1.4246,  3.9890, -3.1342, -1.7096,  2.2794,\n        -1.4246, -3.4191,  0.5699, -2.2794, -0.2849, -0.8548, -0.5699, -1.1397,\n        -1.4246, -2.8493, -1.7096, -3.9890,  7.4081, -4.8438,  0.2849, -0.5699,\n        -0.8548,  1.4246,  0.2849,  3.1342, -1.7096,  2.8493, -1.1397, -2.2794,\n         5.1287, -4.8438,  3.1342,  0.8548, -3.7041,  0.8548, -5.9835,  0.2849,\n        -4.5588,  1.9945,  6.2684, -3.4191, -0.5699, -1.9945, -2.2794, -0.8548,\n         0.5699, -3.9890, -3.7041,  1.4246,  2.2794,  4.8438, -2.2794, -4.8438,\n        -1.9945,  1.4246, -0.8548,  2.2794,  2.8493, -1.9945,  1.7096, -4.8438,\n        -1.7096, -2.5643,  0.0000, -1.9945, -1.4246,  0.2849, -3.4191,  0.0000,\n        -1.1397,  2.2794,  0.0000, -2.8493,  3.9890, -0.5699,  2.8493,  0.0000,\n        -1.9945,  1.7096, -2.8493, -4.5588, -1.7096, -5.1287, -1.9945,  0.8548,\n         2.8493,  0.2849, -2.5643, -0.2849,  0.5699, -2.2794,  1.1397, -0.2849,\n         6.8383, -1.1397, -0.5699, -1.7096, -1.4246, -1.4246, -2.5643, -1.9945,\n        -5.4136, -3.1342, -4.8438, -4.8438, -1.9945, -1.1397,  2.2794,  0.8548,\n         1.1397,  1.7096, -4.5588, -4.2739, -0.2849,  4.5588, -5.6985,  6.2684,\n         0.8548, -6.2684,  1.7096, -2.2794, -3.9890, -0.2849, -2.2794, -3.4191,\n         1.9945,  5.1287, -3.4191, -1.9945,  2.2794, -3.4191, -1.1397, -2.8493,\n        -1.7096, -2.8493,  0.5699,  3.9890, -0.5699, -0.8548, -1.4246,  0.5699,\n         1.7096, -0.8548, -1.7096, -0.2849, -1.9945,  4.8438,  0.8548, -3.4191,\n        -2.5643,  0.8548,  0.5699, -1.9945,  1.1397,  3.7041, -5.9835,  2.5643,\n        -3.4191, -4.2739,  2.2794,  0.2849, -3.1342,  1.1397, -1.9945, -1.9945,\n        -2.5643, -3.4191, -0.5699, -4.2739,  1.1397, -0.5699, -0.2849, -3.4191,\n         0.2849, -2.5643, -6.2684, -1.1397,  1.4246, -0.8548, -2.2794,  2.2794,\n        -1.9945, -4.8438, -2.8493,  1.7096,  1.7096,  0.0000, -5.1287, -0.8548,\n        -1.4246, -2.2794, -1.9945, -2.8493, -0.8548, -1.1397, -3.1342, -3.7041,\n         0.5699, -3.1342,  1.4246,  1.9945, -2.2794, -0.2849,  1.1397, -1.1397,\n         0.8548, -2.2794, -0.5699,  3.9890, -3.7041,  2.8493,  4.2739,  2.5643,\n         6.2684,  3.4191, -0.8548, -1.1397, -2.2794, -2.5643,  0.0000, -0.5699,\n        -4.8438, -0.8548, -1.9945,  1.9945,  3.1342,  0.8548,  0.8548, -1.4246,\n        -0.8548,  1.9945, -0.5699, -1.9945, -1.7096, -2.5643, -2.2794, -1.7096,\n         0.5699,  0.0000, -0.5699,  2.8493,  1.4246,  0.5699,  2.2794,  3.7041,\n         2.2794,  1.7096,  1.9945, 10.5423,  0.8548,  1.9945,  2.5643,  1.4246,\n         0.2849,  3.1342, -0.2849,  2.2794,  0.8548,  1.1397,  1.4246, -0.8548,\n        -1.4246, -0.8548, -1.7096,  1.1397, -0.8548,  3.4191,  1.7096, -1.7096,\n         0.2849, -0.8548, -0.8548,  1.4246,  1.7096,  2.8493, -2.8493,  1.7096,\n        -1.4246,  0.5699, -0.2849,  0.8548, -0.2849, -4.2739,  2.2794,  0.0000,\n        -0.2849,  3.9890,  2.8493,  3.7041,  6.8383,  3.1342,  3.7041,  9.4026,\n         9.1177,  7.6930, 15.6710,  9.4026,  7.6930,  9.4026,  4.2739,  3.1342])\ntensor([994])\n"
    }
   ],
   "source": [
    "from PIL import Image\n",
    "from torchvision import transforms\n",
    "input_image = Image.open(\"ILSVRC2012_val_00008821.JPEG\")\n",
    "preprocess = transforms.Compose([\n",
    "    transforms.Resize(256),\n",
    "    transforms.CenterCrop(224),\n",
    "    transforms.ToTensor(),\n",
    "    transforms.Normalize(mean=[0.485, 0.456, 0.406], std=[0.229, 0.224, 0.225]),\n",
    "])\n",
    "input_tensor = preprocess(input_image)\n",
    "input_batch = input_tensor.unsqueeze(0) # create a mini-batch as expected by the model\n",
    "\n",
    "print(model)\n",
    "print(input_batch)\n",
    "with torch.no_grad():\n",
    "    output = model(input_batch)\n",
    "    _, predicted = torch.max(output.data, 1)\n",
    "# Tensor of shape 1000, with confidence scores over Imagenet's 1000 classes\n",
    "print(output[0])\n",
    "print(predicted)"
   ]
  },
  {
   "cell_type": "code",
   "execution_count": null,
   "metadata": {},
   "outputs": [],
   "source": []
  }
 ],
 "metadata": {
  "language_info": {
   "codemirror_mode": {
    "name": "ipython",
    "version": 3
   },
   "file_extension": ".py",
   "mimetype": "text/x-python",
   "name": "python",
   "nbconvert_exporter": "python",
   "pygments_lexer": "ipython3",
   "version": "3.7.6-final"
  },
  "orig_nbformat": 2,
  "kernelspec": {
   "name": "python3",
   "display_name": "Python 3"
  }
 },
 "nbformat": 4,
 "nbformat_minor": 2
}