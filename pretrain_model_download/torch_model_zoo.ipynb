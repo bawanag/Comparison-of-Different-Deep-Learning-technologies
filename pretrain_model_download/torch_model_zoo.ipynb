{
 "cells": [
  {
   "cell_type": "code",
   "execution_count": 1,
   "metadata": {
    "tags": []
   },
   "outputs": [
    {
     "output_type": "stream",
     "name": "stderr",
     "text": "Downloading: \"https://download.pytorch.org/models/mobilenet_v2-b0353104.pth\" to C:\\Users\\bawanag/.cache\\torch\\checkpoints\\mobilenet_v2-b0353104.pth\n100%|██████████| 13.6M/13.6M [00:03<00:00, 4.29MB/s]\n"
    }
   ],
   "source": [
    "import torch\n",
    "import torchvision.models as models\n",
    "# models.mobilenet_v2\n",
    "root_path = '../../'\n",
    "device = 'cpu'\n",
    "model_name = 'mobilenet_v2'\n",
    "model = models.__dict__[model_name](pretrained=True).to(device)"
   ]
  },
  {
   "cell_type": "code",
   "execution_count": 7,
   "metadata": {},
   "outputs": [],
   "source": [
    "# quan_model = torch.quantization.quantize_dynamic(model, qconfig_spec=None, dtype=torch.qint8, mapping=None, inplace=False)"
   ]
  },
  {
   "cell_type": "code",
   "execution_count": 3,
   "metadata": {},
   "outputs": [],
   "source": [
    "torch.save(model, root_path +'mobilenet/' + model_name+'.pth')\n",
    "# torch.jit.save(torch.jit.script(model), '../'+model_name+'.pth')\n",
    "\n"
   ]
  },
  {
   "cell_type": "code",
   "execution_count": null,
   "metadata": {},
   "outputs": [],
   "source": []
  }
 ],
 "metadata": {
  "language_info": {
   "codemirror_mode": {
    "name": "ipython",
    "version": 3
   },
   "file_extension": ".py",
   "mimetype": "text/x-python",
   "name": "python",
   "nbconvert_exporter": "python",
   "pygments_lexer": "ipython3",
   "version": "3.7.6-final"
  },
  "orig_nbformat": 2,
  "kernelspec": {
   "name": "python3",
   "display_name": "Python 3"
  }
 },
 "nbformat": 4,
 "nbformat_minor": 2
}