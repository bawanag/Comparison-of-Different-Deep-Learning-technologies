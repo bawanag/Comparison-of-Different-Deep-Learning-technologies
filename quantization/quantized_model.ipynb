{
 "cells": [
  {
   "cell_type": "markdown",
   "metadata": {},
   "source": [
    "# Test qantitation model performance"
   ]
  },
  {
   "cell_type": "markdown",
   "metadata": {},
   "source": [
    "## identity model"
   ]
  },
  {
   "cell_type": "code",
   "execution_count": 1,
   "metadata": {
    "tags": []
   },
   "outputs": [
    {
     "output_type": "execute_result",
     "data": {
      "text/plain": "RecursiveScriptModule(\n  original_name=QuantizableMobileNetV2\n  (features): RecursiveScriptModule(\n    original_name=Sequential\n    (0): RecursiveScriptModule(\n      original_name=ConvBNReLU\n      (0): RecursiveScriptModule(original_name=ConvReLU2d)\n      (1): RecursiveScriptModule(original_name=Identity)\n      (2): RecursiveScriptModule(original_name=Identity)\n    )\n    (1): RecursiveScriptModule(\n      original_name=QuantizableInvertedResidual\n      (conv): RecursiveScriptModule(\n        original_name=Sequential\n        (0): RecursiveScriptModule(\n          original_name=ConvBNReLU\n          (0): RecursiveScriptModule(original_name=ConvReLU2d)\n          (1): RecursiveScriptModule(original_name=Identity)\n          (2): RecursiveScriptModule(original_name=Identity)\n        )\n        (1): RecursiveScriptModule(original_name=Conv2d)\n        (2): RecursiveScriptModule(original_name=Identity)\n      )\n      (skip_add): RecursiveScriptModule(original_name=QFunctional)\n    )\n    (2): RecursiveScriptModule(\n      original_name=QuantizableInvertedResidual\n      (conv): RecursiveScriptModule(\n        original_name=Sequential\n        (0): RecursiveScriptModule(\n          original_name=ConvBNReLU\n          (0): RecursiveScriptModule(original_name=ConvReLU2d)\n          (1): RecursiveScriptModule(original_name=Identity)\n          (2): RecursiveScriptModule(original_name=Identity)\n        )\n        (1): RecursiveScriptModule(\n          original_name=ConvBNReLU\n          (0): RecursiveScriptModule(original_name=ConvReLU2d)\n          (1): RecursiveScriptModule(original_name=Identity)\n          (2): RecursiveScriptModule(original_name=Identity)\n        )\n        (2): RecursiveScriptModule(original_name=Conv2d)\n        (3): RecursiveScriptModule(original_name=Identity)\n      )\n      (skip_add): RecursiveScriptModule(original_name=QFunctional)\n    )\n    (3): RecursiveScriptModule(\n      original_name=QuantizableInvertedResidual\n      (conv): RecursiveScriptModule(\n        original_name=Sequential\n        (0): RecursiveScriptModule(\n          original_name=ConvBNReLU\n          (0): RecursiveScriptModule(original_name=ConvReLU2d)\n          (1): RecursiveScriptModule(original_name=Identity)\n          (2): RecursiveScriptModule(original_name=Identity)\n        )\n        (1): RecursiveScriptModule(\n          original_name=ConvBNReLU\n          (0): RecursiveScriptModule(original_name=ConvReLU2d)\n          (1): RecursiveScriptModule(original_name=Identity)\n          (2): RecursiveScriptModule(original_name=Identity)\n        )\n        (2): RecursiveScriptModule(original_name=Conv2d)\n        (3): RecursiveScriptModule(original_name=Identity)\n      )\n      (skip_add): RecursiveScriptModule(original_name=QFunctional)\n    )\n    (4): RecursiveScriptModule(\n      original_name=QuantizableInvertedResidual\n      (conv): RecursiveScriptModule(\n        original_name=Sequential\n        (0): RecursiveScriptModule(\n          original_name=ConvBNReLU\n          (0): RecursiveScriptModule(original_name=ConvReLU2d)\n          (1): RecursiveScriptModule(original_name=Identity)\n          (2): RecursiveScriptModule(original_name=Identity)\n        )\n        (1): RecursiveScriptModule(\n          original_name=ConvBNReLU\n          (0): RecursiveScriptModule(original_name=ConvReLU2d)\n          (1): RecursiveScriptModule(original_name=Identity)\n          (2): RecursiveScriptModule(original_name=Identity)\n        )\n        (2): RecursiveScriptModule(original_name=Conv2d)\n        (3): RecursiveScriptModule(original_name=Identity)\n      )\n      (skip_add): RecursiveScriptModule(original_name=QFunctional)\n    )\n    (5): RecursiveScriptModule(\n      original_name=QuantizableInvertedResidual\n      (conv): RecursiveScriptModule(\n        original_name=Sequential\n        (0): RecursiveScriptModule(\n          original_name=ConvBNReLU\n          (0): RecursiveScriptModule(original_name=ConvReLU2d)\n          (1): RecursiveScriptModule(original_name=Identity)\n          (2): RecursiveScriptModule(original_name=Identity)\n        )\n        (1): RecursiveScriptModule(\n          original_name=ConvBNReLU\n          (0): RecursiveScriptModule(original_name=ConvReLU2d)\n          (1): RecursiveScriptModule(original_name=Identity)\n          (2): RecursiveScriptModule(original_name=Identity)\n        )\n        (2): RecursiveScriptModule(original_name=Conv2d)\n        (3): RecursiveScriptModule(original_name=Identity)\n      )\n      (skip_add): RecursiveScriptModule(original_name=QFunctional)\n    )\n    (6): RecursiveScriptModule(\n      original_name=QuantizableInvertedResidual\n      (conv): RecursiveScriptModule(\n        original_name=Sequential\n        (0): RecursiveScriptModule(\n          original_name=ConvBNReLU\n          (0): RecursiveScriptModule(original_name=ConvReLU2d)\n          (1): RecursiveScriptModule(original_name=Identity)\n          (2): RecursiveScriptModule(original_name=Identity)\n        )\n        (1): RecursiveScriptModule(\n          original_name=ConvBNReLU\n          (0): RecursiveScriptModule(original_name=ConvReLU2d)\n          (1): RecursiveScriptModule(original_name=Identity)\n          (2): RecursiveScriptModule(original_name=Identity)\n        )\n        (2): RecursiveScriptModule(original_name=Conv2d)\n        (3): RecursiveScriptModule(original_name=Identity)\n      )\n      (skip_add): RecursiveScriptModule(original_name=QFunctional)\n    )\n    (7): RecursiveScriptModule(\n      original_name=QuantizableInvertedResidual\n      (conv): RecursiveScriptModule(\n        original_name=Sequential\n        (0): RecursiveScriptModule(\n          original_name=ConvBNReLU\n          (0): RecursiveScriptModule(original_name=ConvReLU2d)\n          (1): RecursiveScriptModule(original_name=Identity)\n          (2): RecursiveScriptModule(original_name=Identity)\n        )\n        (1): RecursiveScriptModule(\n          original_name=ConvBNReLU\n          (0): RecursiveScriptModule(original_name=ConvReLU2d)\n          (1): RecursiveScriptModule(original_name=Identity)\n          (2): RecursiveScriptModule(original_name=Identity)\n        )\n        (2): RecursiveScriptModule(original_name=Conv2d)\n        (3): RecursiveScriptModule(original_name=Identity)\n      )\n      (skip_add): RecursiveScriptModule(original_name=QFunctional)\n    )\n    (8): RecursiveScriptModule(\n      original_name=QuantizableInvertedResidual\n      (conv): RecursiveScriptModule(\n        original_name=Sequential\n        (0): RecursiveScriptModule(\n          original_name=ConvBNReLU\n          (0): RecursiveScriptModule(original_name=ConvReLU2d)\n          (1): RecursiveScriptModule(original_name=Identity)\n          (2): RecursiveScriptModule(original_name=Identity)\n        )\n        (1): RecursiveScriptModule(\n          original_name=ConvBNReLU\n          (0): RecursiveScriptModule(original_name=ConvReLU2d)\n          (1): RecursiveScriptModule(original_name=Identity)\n          (2): RecursiveScriptModule(original_name=Identity)\n        )\n        (2): RecursiveScriptModule(original_name=Conv2d)\n        (3): RecursiveScriptModule(original_name=Identity)\n      )\n      (skip_add): RecursiveScriptModule(original_name=QFunctional)\n    )\n    (9): RecursiveScriptModule(\n      original_name=QuantizableInvertedResidual\n      (conv): RecursiveScriptModule(\n        original_name=Sequential\n        (0): RecursiveScriptModule(\n          original_name=ConvBNReLU\n          (0): RecursiveScriptModule(original_name=ConvReLU2d)\n          (1): RecursiveScriptModule(original_name=Identity)\n          (2): RecursiveScriptModule(original_name=Identity)\n        )\n        (1): RecursiveScriptModule(\n          original_name=ConvBNReLU\n          (0): RecursiveScriptModule(original_name=ConvReLU2d)\n          (1): RecursiveScriptModule(original_name=Identity)\n          (2): RecursiveScriptModule(original_name=Identity)\n        )\n        (2): RecursiveScriptModule(original_name=Conv2d)\n        (3): RecursiveScriptModule(original_name=Identity)\n      )\n      (skip_add): RecursiveScriptModule(original_name=QFunctional)\n    )\n    (10): RecursiveScriptModule(\n      original_name=QuantizableInvertedResidual\n      (conv): RecursiveScriptModule(\n        original_name=Sequential\n        (0): RecursiveScriptModule(\n          original_name=ConvBNReLU\n          (0): RecursiveScriptModule(original_name=ConvReLU2d)\n          (1): RecursiveScriptModule(original_name=Identity)\n          (2): RecursiveScriptModule(original_name=Identity)\n        )\n        (1): RecursiveScriptModule(\n          original_name=ConvBNReLU\n          (0): RecursiveScriptModule(original_name=ConvReLU2d)\n          (1): RecursiveScriptModule(original_name=Identity)\n          (2): RecursiveScriptModule(original_name=Identity)\n        )\n        (2): RecursiveScriptModule(original_name=Conv2d)\n        (3): RecursiveScriptModule(original_name=Identity)\n      )\n      (skip_add): RecursiveScriptModule(original_name=QFunctional)\n    )\n    (11): RecursiveScriptModule(\n      original_name=QuantizableInvertedResidual\n      (conv): RecursiveScriptModule(\n        original_name=Sequential\n        (0): RecursiveScriptModule(\n          original_name=ConvBNReLU\n          (0): RecursiveScriptModule(original_name=ConvReLU2d)\n          (1): RecursiveScriptModule(original_name=Identity)\n          (2): RecursiveScriptModule(original_name=Identity)\n        )\n        (1): RecursiveScriptModule(\n          original_name=ConvBNReLU\n          (0): RecursiveScriptModule(original_name=ConvReLU2d)\n          (1): RecursiveScriptModule(original_name=Identity)\n          (2): RecursiveScriptModule(original_name=Identity)\n        )\n        (2): RecursiveScriptModule(original_name=Conv2d)\n        (3): RecursiveScriptModule(original_name=Identity)\n      )\n      (skip_add): RecursiveScriptModule(original_name=QFunctional)\n    )\n    (12): RecursiveScriptModule(\n      original_name=QuantizableInvertedResidual\n      (conv): RecursiveScriptModule(\n        original_name=Sequential\n        (0): RecursiveScriptModule(\n          original_name=ConvBNReLU\n          (0): RecursiveScriptModule(original_name=ConvReLU2d)\n          (1): RecursiveScriptModule(original_name=Identity)\n          (2): RecursiveScriptModule(original_name=Identity)\n        )\n        (1): RecursiveScriptModule(\n          original_name=ConvBNReLU\n          (0): RecursiveScriptModule(original_name=ConvReLU2d)\n          (1): RecursiveScriptModule(original_name=Identity)\n          (2): RecursiveScriptModule(original_name=Identity)\n        )\n        (2): RecursiveScriptModule(original_name=Conv2d)\n        (3): RecursiveScriptModule(original_name=Identity)\n      )\n      (skip_add): RecursiveScriptModule(original_name=QFunctional)\n    )\n    (13): RecursiveScriptModule(\n      original_name=QuantizableInvertedResidual\n      (conv): RecursiveScriptModule(\n        original_name=Sequential\n        (0): RecursiveScriptModule(\n          original_name=ConvBNReLU\n          (0): RecursiveScriptModule(original_name=ConvReLU2d)\n          (1): RecursiveScriptModule(original_name=Identity)\n          (2): RecursiveScriptModule(original_name=Identity)\n        )\n        (1): RecursiveScriptModule(\n          original_name=ConvBNReLU\n          (0): RecursiveScriptModule(original_name=ConvReLU2d)\n          (1): RecursiveScriptModule(original_name=Identity)\n          (2): RecursiveScriptModule(original_name=Identity)\n        )\n        (2): RecursiveScriptModule(original_name=Conv2d)\n        (3): RecursiveScriptModule(original_name=Identity)\n      )\n      (skip_add): RecursiveScriptModule(original_name=QFunctional)\n    )\n    (14): RecursiveScriptModule(\n      original_name=QuantizableInvertedResidual\n      (conv): RecursiveScriptModule(\n        original_name=Sequential\n        (0): RecursiveScriptModule(\n          original_name=ConvBNReLU\n          (0): RecursiveScriptModule(original_name=ConvReLU2d)\n          (1): RecursiveScriptModule(original_name=Identity)\n          (2): RecursiveScriptModule(original_name=Identity)\n        )\n        (1): RecursiveScriptModule(\n          original_name=ConvBNReLU\n          (0): RecursiveScriptModule(original_name=ConvReLU2d)\n          (1): RecursiveScriptModule(original_name=Identity)\n          (2): RecursiveScriptModule(original_name=Identity)\n        )\n        (2): RecursiveScriptModule(original_name=Conv2d)\n        (3): RecursiveScriptModule(original_name=Identity)\n      )\n      (skip_add): RecursiveScriptModule(original_name=QFunctional)\n    )\n    (15): RecursiveScriptModule(\n      original_name=QuantizableInvertedResidual\n      (conv): RecursiveScriptModule(\n        original_name=Sequential\n        (0): RecursiveScriptModule(\n          original_name=ConvBNReLU\n          (0): RecursiveScriptModule(original_name=ConvReLU2d)\n          (1): RecursiveScriptModule(original_name=Identity)\n          (2): RecursiveScriptModule(original_name=Identity)\n        )\n        (1): RecursiveScriptModule(\n          original_name=ConvBNReLU\n          (0): RecursiveScriptModule(original_name=ConvReLU2d)\n          (1): RecursiveScriptModule(original_name=Identity)\n          (2): RecursiveScriptModule(original_name=Identity)\n        )\n        (2): RecursiveScriptModule(original_name=Conv2d)\n        (3): RecursiveScriptModule(original_name=Identity)\n      )\n      (skip_add): RecursiveScriptModule(original_name=QFunctional)\n    )\n    (16): RecursiveScriptModule(\n      original_name=QuantizableInvertedResidual\n      (conv): RecursiveScriptModule(\n        original_name=Sequential\n        (0): RecursiveScriptModule(\n          original_name=ConvBNReLU\n          (0): RecursiveScriptModule(original_name=ConvReLU2d)\n          (1): RecursiveScriptModule(original_name=Identity)\n          (2): RecursiveScriptModule(original_name=Identity)\n        )\n        (1): RecursiveScriptModule(\n          original_name=ConvBNReLU\n          (0): RecursiveScriptModule(original_name=ConvReLU2d)\n          (1): RecursiveScriptModule(original_name=Identity)\n          (2): RecursiveScriptModule(original_name=Identity)\n        )\n        (2): RecursiveScriptModule(original_name=Conv2d)\n        (3): RecursiveScriptModule(original_name=Identity)\n      )\n      (skip_add): RecursiveScriptModule(original_name=QFunctional)\n    )\n    (17): RecursiveScriptModule(\n      original_name=QuantizableInvertedResidual\n      (conv): RecursiveScriptModule(\n        original_name=Sequential\n        (0): RecursiveScriptModule(\n          original_name=ConvBNReLU\n          (0): RecursiveScriptModule(original_name=ConvReLU2d)\n          (1): RecursiveScriptModule(original_name=Identity)\n          (2): RecursiveScriptModule(original_name=Identity)\n        )\n        (1): RecursiveScriptModule(\n          original_name=ConvBNReLU\n          (0): RecursiveScriptModule(original_name=ConvReLU2d)\n          (1): RecursiveScriptModule(original_name=Identity)\n          (2): RecursiveScriptModule(original_name=Identity)\n        )\n        (2): RecursiveScriptModule(original_name=Conv2d)\n        (3): RecursiveScriptModule(original_name=Identity)\n      )\n      (skip_add): RecursiveScriptModule(original_name=QFunctional)\n    )\n    (18): RecursiveScriptModule(\n      original_name=ConvBNReLU\n      (0): RecursiveScriptModule(original_name=ConvReLU2d)\n      (1): RecursiveScriptModule(original_name=Identity)\n      (2): RecursiveScriptModule(original_name=Identity)\n    )\n  )\n  (classifier): RecursiveScriptModule(\n    original_name=Sequential\n    (0): RecursiveScriptModule(original_name=Dropout)\n    (1): RecursiveScriptModule(\n      original_name=Linear\n      (_packed_params): RecursiveScriptModule(original_name=LinearPackedParams)\n    )\n  )\n  (quant): RecursiveScriptModule(original_name=Quantize)\n  (dequant): RecursiveScriptModule(original_name=DeQuantize)\n)"
     },
     "metadata": {},
     "execution_count": 1
    }
   ],
   "source": [
    "import torch\n",
    "import os\n",
    "import datetime\n",
    "import pandas as pd\n",
    "from  torch.utils.data import Dataset\n",
    "from skimage import io, transform\n",
    "import torchvision.transforms as transforms\n",
    "from PIL import Image\n",
    "import torch.nn as nn\n",
    "import json\n",
    "import torch\n",
    "import torchvision.models as models\n",
    "# from torchsummary import summary\n",
    "starttime = datetime.datetime.now()\n",
    "device = 'cpu'\n",
    "# model = torch.jit.load('resnet/quantization/resnet18.pth').to(device)\n",
    "# model = torch.jit.load('resnet/quantization/resnext101_32x8d.pth').to(device)\n",
    "model = torch.jit.load('../../quantization_models/mobilenet_v2.pth').to(device)\n",
    "# model = torch.jit.load('quantization_models/inception_v3.pth').to(device)\n",
    "# model_name = 'inception_v3'\n",
    "# model = models.quantization.__dict__[model_name](pretrained=True,progress=True,quantize=True).to(device)\n",
    "\n",
    "criterion = nn.CrossEntropyLoss()#thenn.Softmax(dim=1) calculating the Loss\n",
    "model.eval()"
   ]
  },
  {
   "cell_type": "code",
   "execution_count": 2,
   "metadata": {},
   "outputs": [],
   "source": [
    "root_dir = \"../../my_imagenet/ImageNet_validset/\"#identify the classification \n",
    "class_label_location = \"../../my_imagenet/scrip/imagenet_class_index.txt\"\n",
    "class_names = []\n",
    "with open(class_label_location) as f:\n",
    "    lines=f.readlines()\n",
    "    class_to_lable_json = lines[0]\n",
    "    class_to_lable_dict = json.loads(s=class_to_lable_json)\n",
    "    for key in class_to_lable_dict:\n",
    "        class_names.append(class_to_lable_dict[key][0])\n",
    "        \n",
    "def get_class_from_path(value):\n",
    "    for key in class_to_lable_dict:\n",
    "        if value == class_to_lable_dict[key][0]:\n",
    "            return int(key)"
   ]
  },
  {
   "cell_type": "code",
   "execution_count": 3,
   "metadata": {},
   "outputs": [],
   "source": [
    "def get_meta(root_dir, dirs):\n",
    "    \"\"\" Fetches the meta data for all the images and assigns labels.\n",
    "    \"\"\"\n",
    "    paths, classes = [], []\n",
    "    for i, dir_ in enumerate(dirs):\n",
    "        for entry in os.scandir(root_dir + dir_):\n",
    "            if (entry.is_file()):\n",
    "                paths.append(entry.path)\n",
    "                classes.append(get_class_from_path(dir_))\n",
    "                \n",
    "    return paths, classes"
   ]
  },
  {
   "cell_type": "code",
   "execution_count": 4,
   "metadata": {},
   "outputs": [],
   "source": [
    "# Benign images we will assign class 0, and malignant as 1\n",
    "paths, classes = get_meta(root_dir, class_names)\n",
    "\n",
    "data = {\n",
    "    'path': paths,\n",
    "    'class': classes\n",
    "}\n",
    "\n",
    "data_df = pd.DataFrame(data, columns=['path', 'class'])\n",
    "data_df = data_df.sample(frac=1).reset_index(drop=True) # Shuffles the data"
   ]
  },
  {
   "cell_type": "code",
   "execution_count": 5,
   "metadata": {
    "tags": []
   },
   "outputs": [
    {
     "output_type": "stream",
     "name": "stdout",
     "text": "25777\n                                                path  class\n0  my_imagenet/ImageNet_validset/n01498041\\ILSVRC...      6\n1  my_imagenet/ImageNet_validset/n02992211\\ILSVRC...    486\n2  my_imagenet/ImageNet_validset/n02389026\\ILSVRC...    339\n3  my_imagenet/ImageNet_validset/n04120489\\ILSVRC...    770\n4  my_imagenet/ImageNet_validset/n02132136\\ILSVRC...    294\n"
    }
   ],
   "source": [
    "batch_size = 32\n",
    "log_time = 100\n",
    "validset_size = len(data_df)\n",
    "print(len(data_df))\n",
    "print(data_df.head())"
   ]
  },
  {
   "cell_type": "code",
   "execution_count": 6,
   "metadata": {},
   "outputs": [],
   "source": [
    "class ImageNet10(Dataset):\n",
    "    \"\"\" ImageNet10 dataset. \"\"\"\n",
    "\n",
    "    def __init__(self, df, transform=None):\n",
    "        \"\"\"\n",
    "        Args:\n",
    "            image_dir (string): Directory with all the images\n",
    "            df (DataFrame object): Dataframe containing the images, paths and classes\n",
    "            transform (callable, optional): Optional transform to be applied\n",
    "                on a sample.\n",
    "        \"\"\"\n",
    "        self.df = df\n",
    "        self.transform = transform\n",
    "\n",
    "    def __len__(self):\n",
    "        return len(self.df)\n",
    "\n",
    "    def __getitem__(self, index):\n",
    "        # Load image from path and get label\n",
    "        x = Image.open(self.df['path'][index])\n",
    "        try:\n",
    "          x = x.convert('RGB') # To deal with some grayscale images in the data\n",
    "        except:\n",
    "          pass\n",
    "        y = torch.tensor(int(self.df['class'][index]))\n",
    "\n",
    "        if self.transform:\n",
    "            x = self.transform(x)\n",
    "\n",
    "        return x, y"
   ]
  },
  {
   "cell_type": "code",
   "execution_count": 7,
   "metadata": {},
   "outputs": [],
   "source": [
    "data_transform = transforms.Compose([\n",
    "    transforms.Resize(256),\n",
    "    transforms.CenterCrop(224),\n",
    "    transforms.ToTensor(),\n",
    "    transforms.Normalize(mean=[0.485, 0.456, 0.406], std=[0.229, 0.224, 0.225]),\n",
    "    ])\n",
    "\n",
    "ins_dataset_valid = ImageNet10(\n",
    "#     df=data_df[0:int(len(data_df)/10)],\n",
    "    df=data_df,\n",
    "    transform=data_transform,\n",
    ")\n",
    "valid_dataset_loader = torch.utils.data.DataLoader(\n",
    "    ins_dataset_valid,\n",
    "    batch_size=batch_size,\n",
    "    shuffle=False,\n",
    "    num_workers=2\n",
    ")\n"
   ]
  },
  {
   "cell_type": "code",
   "execution_count": 8,
   "metadata": {},
   "outputs": [],
   "source": [
    "def accuracy(output, target, topk=(1,)):\n",
    "    \"\"\"Computes the accuracy over the k top predictions for the specified values of k\"\"\"\n",
    "    with torch.no_grad():\n",
    "        maxk = max(topk)\n",
    "        batch_size = target.size(0)\n",
    "\n",
    "        _, pred = output.topk(maxk, 1, True, True)\n",
    "        pred = pred.t()\n",
    "        correct = pred.eq(target.view(1, -1).expand_as(pred))\n",
    "\n",
    "        res = []\n",
    "        for k in topk:\n",
    "            correct_k = correct[:k].view(-1).float().sum(0, keepdim=True)\n",
    "            res.append(correct_k.mul_(100.0 / batch_size))\n",
    "        return res"
   ]
  },
  {
   "cell_type": "code",
   "execution_count": 9,
   "metadata": {},
   "outputs": [],
   "source": [
    "def single_valid_dataset_gpu():\n",
    "    print('=====================================================================')\n",
    "    running_loss = 0.0\n",
    "    correct = 0\n",
    "    total = 0\n",
    "    acc1 = []\n",
    "    acc5 = []\n",
    "    with torch.no_grad():  \n",
    "        for i, data in enumerate(valid_dataset_loader, 0):\n",
    "            images, labels = data\n",
    "            images = images.to(device)\n",
    "            labels = labels.to(device)\n",
    "            if i == 0 :\n",
    "                starttime_each_log = datetime.datetime.now()\n",
    "                print('Model inference time: {}'.format(starttime_each_log - starttime))\n",
    "            outputs = model(images)\n",
    "            loss = criterion(outputs, labels)\n",
    "            running_loss += loss.item()\n",
    "            #             _, predicted = torch.max(outputs.data, 1)\n",
    "            #             total += labels.size(0)\n",
    "            #             total += len(labels)\n",
    "            #             correct += (predicted == labels).sum().item()\n",
    "            acc1_temp, acc5_temp = accuracy(outputs, labels, topk=(1, 5))\n",
    "#             softmax_output = torch.nn.functional.softmax(outputs, dim=0)\n",
    "#             acc1_temp, acc5_temp = accuracy(softmax_output, labels, topk=(1, 5))\n",
    "            acc1.append(acc1_temp)\n",
    "            acc5.append(acc5_temp)\n",
    "            #             if i%(validset_size/batch_size/log_time) == 0 and i != 0:\n",
    "            if i%log_time == 0 and i != 0:\n",
    "                endtime_each_log = datetime.datetime.now()\n",
    "                time_comsumption = endtime_each_log - starttime_each_log\n",
    "                starttime_each_log = endtime_each_log\n",
    "                print('validset    Loss: {:.4f}   Top1 Accuracy : {:.4f}%  Top5 accuracy : {:.4f}%  Time comsumption:{}'.format(running_loss/(i*batch_size), acc1_temp.item(), acc5_temp.item(), time_comsumption)) \n",
    "            #                 print('validset    Loss: {:.4f}   Accuracy : {:.4f}%   Time comsumption:{}'.format(running_loss/(i*batch_size), 100 * correct / total, time_comsumption)) \n",
    "    print(\"===========================================================================\")\n",
    "    acc1_sum = 0\n",
    "    for acc1_temp in acc1:\n",
    "        acc1_sum += acc1_temp\n",
    "    acc1_average = acc1_sum/len(acc1)\n",
    "    acc5_sum = 0\n",
    "    for acc5_temp in acc5:\n",
    "        acc5_sum += acc5_temp\n",
    "    acc5_average = acc5_sum/len(acc5)\n",
    "    print('overall validset    Loss: {:.4f}   Top1 Accuracy : {:.4f}%  Top5 accuracy : {:.4f}% Time comsumption:{}'.format(running_loss/(i*batch_size), acc1_average.item(), acc5_average.item(), (datetime.datetime.now() - starttime)))"
   ]
  },
  {
   "cell_type": "code",
   "execution_count": 10,
   "metadata": {
    "tags": []
   },
   "outputs": [
    {
     "output_type": "stream",
     "name": "stdout",
     "text": "{'Total': 0, 'Trainable': 0}\n"
    }
   ],
   "source": [
    "def get_parameter_number(net):\n",
    "    total_num = sum(p.numel() for p in net.parameters())\n",
    "    trainable_num = sum(p.numel() for p in net.parameters() if p.requires_grad)\n",
    "    return {'Total': total_num, 'Trainable': trainable_num}\n",
    "print(get_parameter_number(model))"
   ]
  },
  {
   "cell_type": "markdown",
   "metadata": {},
   "source": [
    "## Testing"
   ]
  },
  {
   "cell_type": "code",
   "execution_count": 11,
   "metadata": {
    "tags": []
   },
   "outputs": [
    {
     "output_type": "stream",
     "name": "stdout",
     "text": "=====================================================================\n"
    },
    {
     "output_type": "error",
     "ename": "BrokenPipeError",
     "evalue": "[Errno 32] Broken pipe",
     "traceback": [
      "\u001b[1;31m---------------------------------------------------------------------------\u001b[0m",
      "\u001b[1;31mBrokenPipeError\u001b[0m                           Traceback (most recent call last)",
      "\u001b[1;32m<ipython-input-11-906750d2d1b7>\u001b[0m in \u001b[0;36m<module>\u001b[1;34m\u001b[0m\n\u001b[0;32m      1\u001b[0m \u001b[1;31m# summary(model, (3, 256, 256))\u001b[0m\u001b[1;33m\u001b[0m\u001b[1;33m\u001b[0m\u001b[1;33m\u001b[0m\u001b[0m\n\u001b[1;32m----> 2\u001b[1;33m \u001b[0msingle_valid_dataset_gpu\u001b[0m\u001b[1;33m(\u001b[0m\u001b[1;33m)\u001b[0m\u001b[1;33m\u001b[0m\u001b[1;33m\u001b[0m\u001b[0m\n\u001b[0m",
      "\u001b[1;32m<ipython-input-9-6cc70f9cf0a4>\u001b[0m in \u001b[0;36msingle_valid_dataset_gpu\u001b[1;34m()\u001b[0m\n\u001b[0;32m      7\u001b[0m     \u001b[0macc5\u001b[0m \u001b[1;33m=\u001b[0m \u001b[1;33m[\u001b[0m\u001b[1;33m]\u001b[0m\u001b[1;33m\u001b[0m\u001b[1;33m\u001b[0m\u001b[0m\n\u001b[0;32m      8\u001b[0m     \u001b[1;32mwith\u001b[0m \u001b[0mtorch\u001b[0m\u001b[1;33m.\u001b[0m\u001b[0mno_grad\u001b[0m\u001b[1;33m(\u001b[0m\u001b[1;33m)\u001b[0m\u001b[1;33m:\u001b[0m\u001b[1;33m\u001b[0m\u001b[1;33m\u001b[0m\u001b[0m\n\u001b[1;32m----> 9\u001b[1;33m         \u001b[1;32mfor\u001b[0m \u001b[0mi\u001b[0m\u001b[1;33m,\u001b[0m \u001b[0mdata\u001b[0m \u001b[1;32min\u001b[0m \u001b[0menumerate\u001b[0m\u001b[1;33m(\u001b[0m\u001b[0mvalid_dataset_loader\u001b[0m\u001b[1;33m,\u001b[0m \u001b[1;36m0\u001b[0m\u001b[1;33m)\u001b[0m\u001b[1;33m:\u001b[0m\u001b[1;33m\u001b[0m\u001b[1;33m\u001b[0m\u001b[0m\n\u001b[0m\u001b[0;32m     10\u001b[0m             \u001b[0mimages\u001b[0m\u001b[1;33m,\u001b[0m \u001b[0mlabels\u001b[0m \u001b[1;33m=\u001b[0m \u001b[0mdata\u001b[0m\u001b[1;33m\u001b[0m\u001b[1;33m\u001b[0m\u001b[0m\n\u001b[0;32m     11\u001b[0m             \u001b[0mimages\u001b[0m \u001b[1;33m=\u001b[0m \u001b[0mimages\u001b[0m\u001b[1;33m.\u001b[0m\u001b[0mto\u001b[0m\u001b[1;33m(\u001b[0m\u001b[0mdevice\u001b[0m\u001b[1;33m)\u001b[0m\u001b[1;33m\u001b[0m\u001b[1;33m\u001b[0m\u001b[0m\n",
      "\u001b[1;32mD:\\anaconda\\lib\\site-packages\\torch\\utils\\data\\dataloader.py\u001b[0m in \u001b[0;36m__iter__\u001b[1;34m(self)\u001b[0m\n\u001b[0;32m    277\u001b[0m             \u001b[1;32mreturn\u001b[0m \u001b[0m_SingleProcessDataLoaderIter\u001b[0m\u001b[1;33m(\u001b[0m\u001b[0mself\u001b[0m\u001b[1;33m)\u001b[0m\u001b[1;33m\u001b[0m\u001b[1;33m\u001b[0m\u001b[0m\n\u001b[0;32m    278\u001b[0m         \u001b[1;32melse\u001b[0m\u001b[1;33m:\u001b[0m\u001b[1;33m\u001b[0m\u001b[1;33m\u001b[0m\u001b[0m\n\u001b[1;32m--> 279\u001b[1;33m             \u001b[1;32mreturn\u001b[0m \u001b[0m_MultiProcessingDataLoaderIter\u001b[0m\u001b[1;33m(\u001b[0m\u001b[0mself\u001b[0m\u001b[1;33m)\u001b[0m\u001b[1;33m\u001b[0m\u001b[1;33m\u001b[0m\u001b[0m\n\u001b[0m\u001b[0;32m    280\u001b[0m \u001b[1;33m\u001b[0m\u001b[0m\n\u001b[0;32m    281\u001b[0m     \u001b[1;33m@\u001b[0m\u001b[0mproperty\u001b[0m\u001b[1;33m\u001b[0m\u001b[1;33m\u001b[0m\u001b[0m\n",
      "\u001b[1;32mD:\\anaconda\\lib\\site-packages\\torch\\utils\\data\\dataloader.py\u001b[0m in \u001b[0;36m__init__\u001b[1;34m(self, loader)\u001b[0m\n\u001b[0;32m    717\u001b[0m             \u001b[1;31m#     before it starts, and __del__ tries to join but will get:\u001b[0m\u001b[1;33m\u001b[0m\u001b[1;33m\u001b[0m\u001b[1;33m\u001b[0m\u001b[0m\n\u001b[0;32m    718\u001b[0m             \u001b[1;31m#     AssertionError: can only join a started process.\u001b[0m\u001b[1;33m\u001b[0m\u001b[1;33m\u001b[0m\u001b[1;33m\u001b[0m\u001b[0m\n\u001b[1;32m--> 719\u001b[1;33m             \u001b[0mw\u001b[0m\u001b[1;33m.\u001b[0m\u001b[0mstart\u001b[0m\u001b[1;33m(\u001b[0m\u001b[1;33m)\u001b[0m\u001b[1;33m\u001b[0m\u001b[1;33m\u001b[0m\u001b[0m\n\u001b[0m\u001b[0;32m    720\u001b[0m             \u001b[0mself\u001b[0m\u001b[1;33m.\u001b[0m\u001b[0m_index_queues\u001b[0m\u001b[1;33m.\u001b[0m\u001b[0mappend\u001b[0m\u001b[1;33m(\u001b[0m\u001b[0mindex_queue\u001b[0m\u001b[1;33m)\u001b[0m\u001b[1;33m\u001b[0m\u001b[1;33m\u001b[0m\u001b[0m\n\u001b[0;32m    721\u001b[0m             \u001b[0mself\u001b[0m\u001b[1;33m.\u001b[0m\u001b[0m_workers\u001b[0m\u001b[1;33m.\u001b[0m\u001b[0mappend\u001b[0m\u001b[1;33m(\u001b[0m\u001b[0mw\u001b[0m\u001b[1;33m)\u001b[0m\u001b[1;33m\u001b[0m\u001b[1;33m\u001b[0m\u001b[0m\n",
      "\u001b[1;32mD:\\anaconda\\lib\\multiprocessing\\process.py\u001b[0m in \u001b[0;36mstart\u001b[1;34m(self)\u001b[0m\n\u001b[0;32m    110\u001b[0m                \u001b[1;34m'daemonic processes are not allowed to have children'\u001b[0m\u001b[1;33m\u001b[0m\u001b[1;33m\u001b[0m\u001b[0m\n\u001b[0;32m    111\u001b[0m         \u001b[0m_cleanup\u001b[0m\u001b[1;33m(\u001b[0m\u001b[1;33m)\u001b[0m\u001b[1;33m\u001b[0m\u001b[1;33m\u001b[0m\u001b[0m\n\u001b[1;32m--> 112\u001b[1;33m         \u001b[0mself\u001b[0m\u001b[1;33m.\u001b[0m\u001b[0m_popen\u001b[0m \u001b[1;33m=\u001b[0m \u001b[0mself\u001b[0m\u001b[1;33m.\u001b[0m\u001b[0m_Popen\u001b[0m\u001b[1;33m(\u001b[0m\u001b[0mself\u001b[0m\u001b[1;33m)\u001b[0m\u001b[1;33m\u001b[0m\u001b[1;33m\u001b[0m\u001b[0m\n\u001b[0m\u001b[0;32m    113\u001b[0m         \u001b[0mself\u001b[0m\u001b[1;33m.\u001b[0m\u001b[0m_sentinel\u001b[0m \u001b[1;33m=\u001b[0m \u001b[0mself\u001b[0m\u001b[1;33m.\u001b[0m\u001b[0m_popen\u001b[0m\u001b[1;33m.\u001b[0m\u001b[0msentinel\u001b[0m\u001b[1;33m\u001b[0m\u001b[1;33m\u001b[0m\u001b[0m\n\u001b[0;32m    114\u001b[0m         \u001b[1;31m# Avoid a refcycle if the target function holds an indirect\u001b[0m\u001b[1;33m\u001b[0m\u001b[1;33m\u001b[0m\u001b[1;33m\u001b[0m\u001b[0m\n",
      "\u001b[1;32mD:\\anaconda\\lib\\multiprocessing\\context.py\u001b[0m in \u001b[0;36m_Popen\u001b[1;34m(process_obj)\u001b[0m\n\u001b[0;32m    221\u001b[0m     \u001b[1;33m@\u001b[0m\u001b[0mstaticmethod\u001b[0m\u001b[1;33m\u001b[0m\u001b[1;33m\u001b[0m\u001b[0m\n\u001b[0;32m    222\u001b[0m     \u001b[1;32mdef\u001b[0m \u001b[0m_Popen\u001b[0m\u001b[1;33m(\u001b[0m\u001b[0mprocess_obj\u001b[0m\u001b[1;33m)\u001b[0m\u001b[1;33m:\u001b[0m\u001b[1;33m\u001b[0m\u001b[1;33m\u001b[0m\u001b[0m\n\u001b[1;32m--> 223\u001b[1;33m         \u001b[1;32mreturn\u001b[0m \u001b[0m_default_context\u001b[0m\u001b[1;33m.\u001b[0m\u001b[0mget_context\u001b[0m\u001b[1;33m(\u001b[0m\u001b[1;33m)\u001b[0m\u001b[1;33m.\u001b[0m\u001b[0mProcess\u001b[0m\u001b[1;33m.\u001b[0m\u001b[0m_Popen\u001b[0m\u001b[1;33m(\u001b[0m\u001b[0mprocess_obj\u001b[0m\u001b[1;33m)\u001b[0m\u001b[1;33m\u001b[0m\u001b[1;33m\u001b[0m\u001b[0m\n\u001b[0m\u001b[0;32m    224\u001b[0m \u001b[1;33m\u001b[0m\u001b[0m\n\u001b[0;32m    225\u001b[0m \u001b[1;32mclass\u001b[0m \u001b[0mDefaultContext\u001b[0m\u001b[1;33m(\u001b[0m\u001b[0mBaseContext\u001b[0m\u001b[1;33m)\u001b[0m\u001b[1;33m:\u001b[0m\u001b[1;33m\u001b[0m\u001b[1;33m\u001b[0m\u001b[0m\n",
      "\u001b[1;32mD:\\anaconda\\lib\\multiprocessing\\context.py\u001b[0m in \u001b[0;36m_Popen\u001b[1;34m(process_obj)\u001b[0m\n\u001b[0;32m    320\u001b[0m         \u001b[1;32mdef\u001b[0m \u001b[0m_Popen\u001b[0m\u001b[1;33m(\u001b[0m\u001b[0mprocess_obj\u001b[0m\u001b[1;33m)\u001b[0m\u001b[1;33m:\u001b[0m\u001b[1;33m\u001b[0m\u001b[1;33m\u001b[0m\u001b[0m\n\u001b[0;32m    321\u001b[0m             \u001b[1;32mfrom\u001b[0m \u001b[1;33m.\u001b[0m\u001b[0mpopen_spawn_win32\u001b[0m \u001b[1;32mimport\u001b[0m \u001b[0mPopen\u001b[0m\u001b[1;33m\u001b[0m\u001b[1;33m\u001b[0m\u001b[0m\n\u001b[1;32m--> 322\u001b[1;33m             \u001b[1;32mreturn\u001b[0m \u001b[0mPopen\u001b[0m\u001b[1;33m(\u001b[0m\u001b[0mprocess_obj\u001b[0m\u001b[1;33m)\u001b[0m\u001b[1;33m\u001b[0m\u001b[1;33m\u001b[0m\u001b[0m\n\u001b[0m\u001b[0;32m    323\u001b[0m \u001b[1;33m\u001b[0m\u001b[0m\n\u001b[0;32m    324\u001b[0m     \u001b[1;32mclass\u001b[0m \u001b[0mSpawnContext\u001b[0m\u001b[1;33m(\u001b[0m\u001b[0mBaseContext\u001b[0m\u001b[1;33m)\u001b[0m\u001b[1;33m:\u001b[0m\u001b[1;33m\u001b[0m\u001b[1;33m\u001b[0m\u001b[0m\n",
      "\u001b[1;32mD:\\anaconda\\lib\\multiprocessing\\popen_spawn_win32.py\u001b[0m in \u001b[0;36m__init__\u001b[1;34m(self, process_obj)\u001b[0m\n\u001b[0;32m     87\u001b[0m             \u001b[1;32mtry\u001b[0m\u001b[1;33m:\u001b[0m\u001b[1;33m\u001b[0m\u001b[1;33m\u001b[0m\u001b[0m\n\u001b[0;32m     88\u001b[0m                 \u001b[0mreduction\u001b[0m\u001b[1;33m.\u001b[0m\u001b[0mdump\u001b[0m\u001b[1;33m(\u001b[0m\u001b[0mprep_data\u001b[0m\u001b[1;33m,\u001b[0m \u001b[0mto_child\u001b[0m\u001b[1;33m)\u001b[0m\u001b[1;33m\u001b[0m\u001b[1;33m\u001b[0m\u001b[0m\n\u001b[1;32m---> 89\u001b[1;33m                 \u001b[0mreduction\u001b[0m\u001b[1;33m.\u001b[0m\u001b[0mdump\u001b[0m\u001b[1;33m(\u001b[0m\u001b[0mprocess_obj\u001b[0m\u001b[1;33m,\u001b[0m \u001b[0mto_child\u001b[0m\u001b[1;33m)\u001b[0m\u001b[1;33m\u001b[0m\u001b[1;33m\u001b[0m\u001b[0m\n\u001b[0m\u001b[0;32m     90\u001b[0m             \u001b[1;32mfinally\u001b[0m\u001b[1;33m:\u001b[0m\u001b[1;33m\u001b[0m\u001b[1;33m\u001b[0m\u001b[0m\n\u001b[0;32m     91\u001b[0m                 \u001b[0mset_spawning_popen\u001b[0m\u001b[1;33m(\u001b[0m\u001b[1;32mNone\u001b[0m\u001b[1;33m)\u001b[0m\u001b[1;33m\u001b[0m\u001b[1;33m\u001b[0m\u001b[0m\n",
      "\u001b[1;32mD:\\anaconda\\lib\\multiprocessing\\reduction.py\u001b[0m in \u001b[0;36mdump\u001b[1;34m(obj, file, protocol)\u001b[0m\n\u001b[0;32m     58\u001b[0m \u001b[1;32mdef\u001b[0m \u001b[0mdump\u001b[0m\u001b[1;33m(\u001b[0m\u001b[0mobj\u001b[0m\u001b[1;33m,\u001b[0m \u001b[0mfile\u001b[0m\u001b[1;33m,\u001b[0m \u001b[0mprotocol\u001b[0m\u001b[1;33m=\u001b[0m\u001b[1;32mNone\u001b[0m\u001b[1;33m)\u001b[0m\u001b[1;33m:\u001b[0m\u001b[1;33m\u001b[0m\u001b[1;33m\u001b[0m\u001b[0m\n\u001b[0;32m     59\u001b[0m     \u001b[1;34m'''Replacement for pickle.dump() using ForkingPickler.'''\u001b[0m\u001b[1;33m\u001b[0m\u001b[1;33m\u001b[0m\u001b[0m\n\u001b[1;32m---> 60\u001b[1;33m     \u001b[0mForkingPickler\u001b[0m\u001b[1;33m(\u001b[0m\u001b[0mfile\u001b[0m\u001b[1;33m,\u001b[0m \u001b[0mprotocol\u001b[0m\u001b[1;33m)\u001b[0m\u001b[1;33m.\u001b[0m\u001b[0mdump\u001b[0m\u001b[1;33m(\u001b[0m\u001b[0mobj\u001b[0m\u001b[1;33m)\u001b[0m\u001b[1;33m\u001b[0m\u001b[1;33m\u001b[0m\u001b[0m\n\u001b[0m\u001b[0;32m     61\u001b[0m \u001b[1;33m\u001b[0m\u001b[0m\n\u001b[0;32m     62\u001b[0m \u001b[1;31m#\u001b[0m\u001b[1;33m\u001b[0m\u001b[1;33m\u001b[0m\u001b[1;33m\u001b[0m\u001b[0m\n",
      "\u001b[1;31mBrokenPipeError\u001b[0m: [Errno 32] Broken pipe"
     ]
    }
   ],
   "source": [
    "# summary(model, (3, 256, 256))\n",
    "single_valid_dataset_gpu()"
   ]
  },
  {
   "cell_type": "code",
   "execution_count": 12,
   "metadata": {},
   "outputs": [
    {
     "output_type": "error",
     "ename": "SyntaxError",
     "evalue": "invalid syntax (<ipython-input-12-a2b83d60b80a>, line 2)",
     "traceback": [
      "\u001b[1;36m  File \u001b[1;32m\"<ipython-input-12-a2b83d60b80a>\"\u001b[1;36m, line \u001b[1;32m2\u001b[0m\n\u001b[1;33m    params = model.\u001b[0m\n\u001b[1;37m                   ^\u001b[0m\n\u001b[1;31mSyntaxError\u001b[0m\u001b[1;31m:\u001b[0m invalid syntax\n"
     ]
    }
   ],
   "source": [
    "# print(model.parameters)\n",
    "params = model.\n",
    "print(params)\n",
    "k = 0\n",
    "for i in params:\n",
    "    l = 1\n",
    "    print(\"该层的结构：\" + str(list(i.size())))\n",
    "    for j in i.size():\n",
    "        l *= j\n",
    "    print(\"该层参数和：\" + str(l))\n",
    "    k = k + l\n",
    "print(\"总参数数量和：\" + str(k))"
   ]
  },
  {
   "cell_type": "code",
   "execution_count": 13,
   "metadata": {},
   "outputs": [],
   "source": [
    "def single_valid_dataset_gpu():\n",
    "    starttime = datetime.datetime.now()\n",
    "    starttime_each_log = starttime\n",
    "    running_loss = 0.0\n",
    "    correct = 0\n",
    "    total = 0\n",
    "    with torch.no_grad():  \n",
    "         for i, data in enumerate(valid_dataset_loader, 0):\n",
    "            images, labels = data\n",
    "            images = images.to(device)\n",
    "            labels = labels.to(device)\n",
    "            outputs = model(images)\n",
    "            \n",
    "            loss = criterion(outputs, labels)\n",
    "            running_loss += loss.item()\n",
    "            \n",
    "            _, predicted = torch.max(outputs.data, 1)\n",
    "            total += labels.size(0)\n",
    "#             total += len(labels)\n",
    "            correct += (predicted == labels).sum().item()\n",
    "\n",
    "#             if i%(validset_size/batch_size/log_time) == 0 and i != 0:\n",
    "            if i%log_time == 0 and i != 0:\n",
    "                endtime_each_log = datetime.datetime.now()\n",
    "                time_comsumption = endtime_each_log - starttime_each_log\n",
    "                starttime_each_log = endtime_each_log\n",
    "                print('validset    Loss: {:.4f}   Accuracy : {:.4f}%   Time comsumption:{}'.format(running_loss/(i*batch_size), 100 * correct / total, time_comsumption)) \n",
    "    print(\"===========================================================================\")\n",
    "    print('overall validset    Loss: {:.4f}   Accuracy : {:.4f}%   Time comsumption:{}'.format(running_loss/(i*batch_size), 100 * correct / total, (datetime.datetime.now() - starttime))) \n"
   ]
  },
  {
   "cell_type": "code",
   "execution_count": 2,
   "metadata": {},
   "outputs": [],
   "source": [
    "# Download an example image from the pytorch website\n",
    "import urllib\n",
    "url, filename = (\"https://github.com/pytorch/hub/raw/master/dog.jpg\", \"dog.jpg\")\n",
    "try: urllib.URLopener().retrieve(url, filename)\n",
    "except: urllib.request.urlretrieve(url, filename)"
   ]
  },
  {
   "cell_type": "code",
   "execution_count": 3,
   "metadata": {
    "tags": []
   },
   "outputs": [
    {
     "output_type": "stream",
     "name": "stdout",
     "text": "tensor([ 1.8372,  0.4593, -5.3585, -4.4399, -4.2868,  0.3062, -1.2248,  2.2965,\n         5.6647, -3.9806, -6.1240, -4.7461, -4.2868, -4.2868, -3.0620, -2.7558,\n        -2.7558, -0.9186, -2.6027, -5.6647, -5.2054, -1.9903, -5.5116,  1.3779,\n        -0.6124, -2.7558, -1.5310, -0.1531, -2.7558,  2.2965,  0.1531,  1.6841,\n         0.4593, -7.1957, -4.4399, -3.6744,  0.9186,  0.1531,  1.5310, -1.2248,\n         1.9903, -1.9903, -4.1337, -1.5310,  0.4593, -2.6027,  3.6744,  0.7655,\n        -0.7655, -0.9186,  0.4593, -0.4593,  0.1531, -2.2965,  1.0717, -2.2965,\n        -4.7461, -5.6647, -3.0620, -1.5310,  0.4593, -4.1337, -2.4496, -5.3585,\n        -3.3682, -6.5833,  0.4593, -1.5310, -0.4593, -1.6841, -3.0620, -2.7558,\n        -2.2965, -2.6027, -1.8372, -1.3779, -2.4496, -1.9903,  0.3062,  1.6841,\n        -2.2965, -1.2248,  3.9806,  2.1434,  1.8372, -1.3779,  0.4593,  0.6124,\n        -2.6027,  4.1337, -0.4593, -6.5833, -5.6647, -4.7461, -0.4593, -6.8895,\n        -0.9186, -2.2965, -7.0426,  2.9089,  1.8372, -6.5833,  0.1531, -1.8372,\n        14.0851,  2.4496,  3.9806, -4.4399, -0.9186, -3.6744, -1.9903, -4.5930,\n         0.6124,  1.6841,  1.3779, -0.7655, -2.4496,  1.3779, -0.4593, -1.5310,\n        -5.6647, -3.0620,  0.0000, -0.7655,  1.3779, -2.6027, -1.2248, -3.9806,\n        -4.2868, -2.2965, -4.2868, -4.5930,  1.2248, -4.7461, -0.6124, -4.5930,\n        -2.9089, -6.4302, -5.6647, -7.5019, -8.7267, -4.2868, -6.5833, -5.5116,\n        -2.4496, -1.8372, -2.1434, -2.7558, -5.5116, -2.1434, -4.4399,  6.7364,\n         8.1143,  0.6124,  7.0426,  0.4593,  3.2151,  9.1860,  1.3779,  0.1531,\n        -2.7558,  0.1531,  1.2248, -3.0620, -1.6841, -4.1337, -0.6124, -3.2151,\n         0.1531,  5.6647, -0.3062,  1.5310, -1.2248,  2.7558,  5.6647, -2.4496,\n        -3.0620, -0.9186, -2.6027,  2.2965,  2.1434, -4.2868,  0.4593,  0.1531,\n        -0.3062,  1.3779,  3.0620, -2.2965,  0.6124, -3.6744,  1.9903, -2.4496,\n         2.4496,  3.0620, -3.5213,  1.6841, -2.7558, -1.8372, -2.9089,  4.8992,\n         0.3062, -0.1531, -1.9903,  5.8178,  0.7655,  2.7558,  0.6124,  5.0523,\n         3.5213,  0.0000, -2.6027, -0.9186,  4.1337,  0.1531, -1.6841,  3.3682,\n         2.2965,  2.7558,  1.3779,  1.9903,  2.4496, -2.1434,  7.0426,  9.7984,\n         9.1860,  0.9186,  0.9186,  5.2054,  1.8372,  1.6841, 11.3294, 11.0232,\n         9.6453,  0.1531, -1.6841,  5.5116,  1.3779,  1.8372,  1.8372,  3.5213,\n         2.6027,  1.6841,  0.1531, -2.9089, -1.5310,  1.3779,  0.0000,  3.8275,\n        10.4108,  9.7984,  9.7984,  2.9089, -2.9089,  2.4496,  0.1531, -1.3779,\n         3.5213, 10.4108, 15.6161, 12.5541,  6.5833, 10.7170, -1.8372,  9.9515,\n         7.9612,  0.0000, -1.3779,  0.0000, -2.1434,  4.4399,  7.6550,  0.4593,\n         2.7558,  4.5930,  4.1337, -3.2151,  1.6841,  3.5213,  1.2248, 10.5639,\n         3.2151,  9.3391,  9.4922,  9.6453,  7.0426,  9.0329,  1.6841,  7.8081,\n         1.0717,  3.0620,  1.2248, -0.6124,  5.6647,  0.1531, -2.6027, -0.7655,\n         0.9186, -1.9903,  2.9089,  1.6841, -6.5833, -1.8372, -3.2151, -2.7558,\n        -3.8275, -5.2054, -0.3062, -1.8372, -5.2054, -2.9089, -1.0717,  0.0000,\n        -0.7655,  1.8372, -1.3779, -1.9903, -0.4593, -1.2248, -1.9903, -8.1143,\n        -6.4302, -3.9806, -3.8275, -6.4302, -5.8178, -3.8275, -2.6027, -1.0717,\n        -4.8992, -2.2965,  8.4205,  8.8798, 11.3294,  6.2771, -0.4593,  6.2771,\n        -1.0717,  0.6124,  6.7364,  0.6124,  0.4593,  3.3682, -1.6841, -4.8992,\n        -2.2965, -0.3062, -3.2151, -4.8992,  2.2965, -4.4399, -3.6744, -6.1240,\n        -1.9903,  0.7655, -6.1240,  3.3682,  4.1337,  2.6027,  4.4399,  4.5930,\n        -0.3062,  3.5213, -0.1531,  5.0523, -3.8275, -2.7558, -2.9089, -3.2151,\n         0.1531, -1.5310, -0.1531,  1.8372, -2.1434,  1.9903,  1.5310, -0.9186,\n        -5.6647,  3.8275, -2.4496, -0.4593,  1.5310, -1.3779, -0.7655,  4.2868,\n         1.0717, -5.8178, -8.7267,  3.0620,  0.4593,  0.0000, -4.1337, -0.7655,\n        -1.8372, -1.9903, -2.1434, -0.9186, -5.6647, -2.1434, -0.9186, -1.9903,\n        -2.4496, -1.8372,  1.3779, -5.0523, -2.9089, -1.5310, -3.2151,  1.9903,\n         2.6027,  0.3062, -1.8372,  1.5310,  6.2771,  1.3779, -0.6124, -1.6841,\n        -3.2151,  0.7655, -1.6841,  1.8372, -0.1531,  0.7655, -0.3062, -1.0717,\n        -2.9089,  0.3062, -0.1531,  5.2054,  6.4302,  2.4496, -5.8178,  1.5310,\n        -1.3779, -2.6027,  1.2248,  3.9806,  1.8372, -0.9186, -2.6027, -0.9186,\n         2.4496, -1.6841, -1.2248,  0.1531,  0.4593, -2.9089, -0.7655,  1.5310,\n         1.2248, -0.1531,  2.2965, -3.3682,  2.7558,  0.9186, -4.1337, -0.4593,\n         1.2248,  3.9806, -0.9186, -0.4593,  2.1434,  0.4593,  7.3488,  5.9709,\n        -0.6124, -1.0717, -2.4496, -4.4399,  1.8372,  2.6027,  4.2868,  1.6841,\n         1.3779,  0.7655, -1.0717, -1.2248,  1.3779,  0.0000,  4.2868,  3.3682,\n        -0.3062, -2.2965, -1.8372,  1.5310,  1.0717, -0.4593, -1.8372,  1.6841,\n         0.4593,  4.5930, -0.7655,  1.8372, -1.0717,  0.1531,  0.9186, -1.5310,\n         3.6744, -1.0717, -2.9089,  2.1434, -2.9089,  3.0620,  6.8895,  2.6027,\n         0.6124,  1.5310,  1.0717,  0.6124,  4.5930, -3.9806, -4.7461,  1.8372,\n        -0.3062, -1.0717, -1.3779,  4.4399,  1.3779, -3.9806,  1.5310,  2.6027,\n        -0.4593,  0.4593,  8.7267,  1.8372, -1.3779,  0.6124, -1.0717,  0.9186,\n         0.0000,  1.2248,  1.3779, -3.3682, -2.7558,  0.4593,  4.8992,  0.3062,\n        -2.7558, -0.1531, -4.7461,  7.9612, -7.1957, -3.0620,  1.6841,  0.7655,\n         3.9806,  0.7655,  1.3779, -5.2054, -2.2965, -0.9186, -5.0523, -2.7558,\n         3.2151,  2.7558, -0.6124, -0.7655,  2.6027,  2.4496,  2.4496,  2.4496,\n         0.3062, -1.0717,  1.5310,  0.1531, -1.6841, -2.7558,  0.7655,  2.6027,\n        -1.9903,  0.6124,  0.6124,  0.4593,  1.2248,  2.2965,  3.8275,  1.9903,\n        -3.5213,  1.2248,  1.0717, -1.5310,  1.0717,  2.2965, -2.1434, -1.6841,\n         3.5213,  3.0620,  0.3062,  3.5213,  2.7558,  1.0717, -1.5310,  0.3062,\n        -0.6124, -1.0717,  0.3062, -1.8372,  4.7461,  0.9186, -1.6841,  0.0000,\n         1.0717,  3.2151,  0.4593, -5.3585, -2.4496, -0.6124,  3.8275,  1.8372,\n         1.0717, -3.6744, -0.7655,  2.1434, -6.2771,  2.9089, -1.8372,  2.1434,\n        -0.1531,  0.0000, -1.5310,  2.1434,  3.2151,  6.2771,  2.4496, -0.7655,\n        -1.9903, -1.6841,  1.0717,  3.8275,  1.0717, -0.3062,  1.8372,  3.2151,\n         0.0000, -0.3062, -2.2965, -2.1434,  1.3779,  0.7655, -1.8372, -1.5310,\n         2.4496,  2.9089, -0.4593, -0.4593, -0.1531, -1.9903,  3.5213, -1.2248,\n        -0.1531, -1.8372, -1.9903,  3.3682,  1.0717,  4.7461, -1.0717,  1.6841,\n         2.2965,  2.2965,  2.2965,  0.6124,  3.5213, -2.1434,  0.4593, -2.2965,\n         3.5213, -1.3779, -1.5310,  2.7558, -4.7461,  2.1434,  1.0717, -1.0717,\n        -1.3779,  3.9806,  4.4399,  0.7655,  2.9089,  0.9186,  0.7655, -1.5310,\n         1.8372,  1.6841, -0.9186,  0.6124,  0.7655,  0.9186, -1.8372, -3.8275,\n         0.3062,  1.2248, -3.9806,  0.4593,  2.2965,  0.0000, -3.2151,  0.7655,\n         1.0717,  1.5310, -0.9186,  2.9089,  6.5833, -0.3062, -3.0620,  1.9903,\n         0.4593, -3.8275,  0.7655,  1.5310,  1.6841, -0.6124, -2.2965, -2.4496,\n        -0.4593, -0.3062, -0.7655, -2.9089,  5.2054, -0.3062,  0.0000,  4.4399,\n        -0.9186,  4.4399,  5.2054,  4.2868, -4.2868,  3.2151, -1.9903,  0.0000,\n         3.6744, -0.7655,  0.4593,  7.8081, -1.3779,  4.2868, -4.2868,  2.6027,\n        -1.5310,  0.1531,  0.4593, -1.9903,  0.9186, -0.1531,  3.6744, -2.2965,\n         1.3779,  1.0717, -1.2248,  3.0620,  1.2248,  0.9186,  3.2151,  4.5930,\n         0.4593,  8.1143,  2.4496, -2.2965,  8.2674,  0.9186, -0.3062, -1.0717,\n         2.7558,  5.2054, -3.9806,  3.5213,  2.4496,  2.2965,  1.8372, -2.6027,\n         0.6124,  2.9089,  1.2248, -0.1531, -0.1531, -1.0717, -1.2248, -0.1531,\n        -1.3779, -2.4496,  0.1531, -1.5310, -0.9186, -1.5310,  5.0523,  5.3585,\n         0.9186,  1.5310,  0.0000, -1.2248, -1.3779,  1.5310,  0.4593,  2.9089,\n         5.8178,  2.4496,  4.2868, -2.1434, -0.7655,  4.2868, -3.9806,  2.4496,\n        -1.0717, -2.2965,  0.0000,  1.2248,  4.1337,  4.5930,  3.0620,  0.7655,\n         0.0000, -0.6124, -0.3062,  6.2771, -2.9089,  1.6841,  0.0000,  1.8372,\n         0.3062,  2.4496,  2.7558, -1.9903, -2.4496, -2.2965, -1.5310,  1.9903,\n         1.9903,  1.5310,  0.9186,  2.1434,  2.1434, -4.4399,  1.0717,  3.0620,\n         1.0717,  1.5310, -0.9186, -0.3062,  0.6124,  2.2965,  3.5213, -0.7655,\n         3.5213,  1.2248, -3.2151, -0.1531,  4.8992,  3.6744,  1.6841,  1.5310,\n        -1.6841,  3.5213, -2.6027,  4.4399,  5.8178, -2.9089, -0.9186,  1.3779,\n        -1.8372, -4.1337, -0.9186, -1.3779, -5.2054,  2.7558, -2.7558, -0.7655,\n        -1.2248, -3.5213,  0.0000,  0.4593, -1.0717, -0.3062,  3.3682,  0.9186,\n        -2.6027, -5.2054, -6.4302, -2.9089,  4.4399,  0.3062, -1.6841,  5.3585,\n         1.0717, -0.4593,  6.7364,  0.1531, -3.5213,  1.6841, -0.1531, -5.9709,\n        -1.6841, -0.1531, -5.6647,  0.0000, -0.7655, -1.3779,  0.0000, -3.2151,\n         5.0523,  3.6744,  4.7461,  2.7558, -4.1337, -0.9186,  4.4399,  0.9186,\n        10.7170,  6.1240, -0.6124,  1.2248, -1.9903,  3.3682,  1.9903,  2.7558,\n         4.2868, -2.9089, -1.6841, -4.1337,  0.1531, -7.5019, -0.1531, -0.3062,\n        -2.2965, -3.8275, -3.8275, -0.1531, -3.8275, -3.9806, -5.9709, -1.0717,\n        -0.7655,  5.0523,  1.0717, -3.0620, -0.3062, -6.1240, -2.9089,  2.1434,\n         1.5310,  2.9089,  1.8372,  1.2248,  0.6124, -0.3062,  2.1434,  0.0000,\n        -5.2054, -0.9186, -3.8275, -0.1531,  3.6744,  1.0717, -2.1434, -3.0620,\n        -3.8275, -0.1531,  0.6124, -1.5310, -2.2965,  0.4593,  4.4399, -3.2151,\n        -1.2248,  0.7655,  0.4593, -0.6124, -1.8372, -3.3682,  0.7655, -4.8992,\n         1.2248,  1.9903,  0.1531,  2.4496,  0.0000, -5.8178, -1.9903,  4.5930,\n        -2.9089,  1.8372, -1.0717, -2.2965, -2.1434, -0.4593, -0.6124, -3.6744,\n         0.9186, -2.1434, -1.8372,  5.2054, -0.7655, -3.3682,  0.4593, -1.6841,\n        -1.0717, -7.3488, -6.5833, -4.1337, -0.1531, -2.7558,  4.8992,  3.8275])\ntensor([258])\n"
    }
   ],
   "source": [
    "# sample execution (requires torchvision)\n",
    "from PIL import Image\n",
    "from torchvision import transforms\n",
    "input_image = Image.open(filename)\n",
    "preprocess = transforms.Compose([\n",
    "    transforms.Resize(256),\n",
    "    transforms.CenterCrop(224),\n",
    "    transforms.ToTensor(),\n",
    "    transforms.Normalize(mean=[0.485, 0.456, 0.406], std=[0.229, 0.224, 0.225]),\n",
    "])\n",
    "input_tensor = preprocess(input_image)\n",
    "input_batch = input_tensor.unsqueeze(0).to(device) # create a mini-batch as expected by the model\n",
    "\n",
    "# move the input and model to GPU for speed if available\n",
    "# if torch.cuda.is_available():\n",
    "#     input_batch = input_batch.to('cuda')\n",
    "#     model.to('cuda')\n",
    "\n",
    "with torch.no_grad():\n",
    "    output = model(input_batch)\n",
    "# Tensor of shape 1000, with confidence scores over Imagenet's 1000 classes\n",
    "_,predicted = torch.max(output.data, 1)\n",
    "\n",
    "print(output[0])\n",
    "print(predicted)\n",
    "# The output has unnormalized scores. To get probabilities, you can run a softmax on it."
   ]
  }
 ],
 "metadata": {
  "kernelspec": {
   "display_name": "Python 3",
   "language": "python",
   "name": "python3"
  },
  "language_info": {
   "codemirror_mode": {
    "name": "ipython",
    "version": 3
   },
   "file_extension": ".py",
   "mimetype": "text/x-python",
   "name": "python",
   "nbconvert_exporter": "python",
   "pygments_lexer": "ipython3",
   "version": "3.7.6-final"
  },
  "toc": {
   "base_numbering": 1,
   "nav_menu": {},
   "number_sections": true,
   "sideBar": true,
   "skip_h1_title": false,
   "title_cell": "Table of Contents",
   "title_sidebar": "Contents",
   "toc_cell": false,
   "toc_position": {
    "height": "calc(100% - 180px)",
    "left": "10px",
    "top": "150px",
    "width": "384px"
   },
   "toc_section_display": true,
   "toc_window_display": true
  }
 },
 "nbformat": 4,
 "nbformat_minor": 4
}